{
 "cells": [
  {
   "cell_type": "code",
   "execution_count": 8,
   "metadata": {},
   "outputs": [
    {
     "data": {
      "text/html": [
       "<h3 align='center'><font color='maroon'>Time Spent</font></h3>"
      ],
      "text/plain": [
       "<IPython.core.display.HTML object>"
      ]
     },
     "metadata": {},
     "output_type": "display_data"
    },
    {
     "data": {
      "text/html": [
       "<h4>Focused Hours (today):</h4><font color='maroon'>Total: </font><b>6.2</b> hr (avg 3.6 hr)</br><font color='maroon'>Goal: </font><b>4.5</b> hr (avg 3.4 hr out of 4 hr)</br>"
      ],
      "text/plain": [
       "<IPython.core.display.HTML object>"
      ]
     },
     "metadata": {},
     "output_type": "display_data"
    },
    {
     "data": {
      "text/html": [
       "\n",
       "    <!DOCTYPE html>\n",
       "    <html lang=\"en-US\">\n",
       "    <script type=\"text/javascript\" src=\"https://www.gstatic.com/charts/loader.js\"></script>\n",
       "\n",
       "    <script type=\"text/javascript\">\n",
       "    // Load google charts\n",
       "    google.charts.load('current', {'packages':['corechart']});\n",
       "    google.charts.setOnLoadCallback(drawChart);\n",
       "\n",
       "    // Draw the chart and set the chart values\n",
       "    function drawChart() {\n",
       "      var data = google.visualization.arrayToDataTable([['Category', 'Hours per Day'],['careem', 0.4],['comp_namaaz', 0.0],['ft_others', 0.5],['goal', 2.2],['meeting', 0.2],['social', 0.0]]);\n",
       "\n",
       "      // Optional; add a title and set the width and height of the chart\n",
       "      var options = {'title':'Daily Status (Weekly Avg)'  };\n",
       "\n",
       "      // Display the chart inside the <div> element with id=\"piechart\"\n",
       "      var chart = new google.visualization.PieChart(document.getElementById('piechart2'));\n",
       "      chart.draw(data, options);\n",
       "    }\n",
       "    </script>\n",
       "\n",
       "    <body>\n",
       "\n",
       "\n",
       "    <div id=\"piechart2\"></div>\n",
       "\n",
       "    </body>\n",
       "    </html>\n",
       "    "
      ],
      "text/plain": [
       "<IPython.core.display.HTML object>"
      ]
     },
     "metadata": {},
     "output_type": "display_data"
    },
    {
     "data": {
      "text/html": [
       "\n",
       "<!DOCTYPE html>\n",
       "<html lang=\"en\">\n",
       "    <head>\n",
       "        <meta charset=\"utf-8\">\n",
       "        <title>Bokeh Application</title>\n",
       "        \n",
       "<link rel=\"stylesheet\" href=\"https://cdn.pydata.org/bokeh/release/bokeh-0.12.13.min.css\" type=\"text/css\" />\n",
       "        \n",
       "<script type=\"text/javascript\" src=\"https://cdn.pydata.org/bokeh/release/bokeh-0.12.13.min.js\"></script>\n",
       "<script type=\"text/javascript\">\n",
       "    Bokeh.set_log_level(\"info\");\n",
       "</script>\n",
       "        <style>\n",
       "          html {\n",
       "            width: 100%;\n",
       "            height: 100%;\n",
       "          }\n",
       "          body {\n",
       "            width: 90%;\n",
       "            height: 100%;\n",
       "            margin: auto;\n",
       "          }\n",
       "        </style>\n",
       "    </head>\n",
       "    <body>\n",
       "        \n",
       "        <div class=\"bk-root\">\n",
       "            <div class=\"bk-plotdiv\" id=\"19e7ed96-5ba9-4e4a-a7eb-5bc787056020\"></div>\n",
       "        </div>\n",
       "        \n",
       "        <script type=\"application/json\" id=\"e023be6f-fc64-4d04-99ab-1a2653e81fe1\">\n",
       "          {\"eed48432-f1f5-4ac5-bfbc-ae3f917a1ed0\":{\"roots\":{\"references\":[{\"attributes\":{},\"id\":\"8366339c-5de4-472b-81be-ac1299f3aea4\",\"type\":\"BasicTicker\"},{\"attributes\":{\"fill_alpha\":{\"value\":0.1},\"fill_color\":{\"value\":\"#1f77b4\"},\"line_alpha\":{\"value\":0.1},\"line_color\":{\"value\":\"#1f77b4\"},\"top\":{\"field\":\"Avg_weekly\"},\"width\":{\"value\":0.2},\"x\":{\"field\":\"Category\",\"transform\":{\"id\":\"2e44cf2e-6bc3-4d3c-9919-b125cbe7a75e\",\"type\":\"Dodge\"}}},\"id\":\"9bf00b16-10e2-43cc-b7c9-4b1769ada482\",\"type\":\"VBar\"},{\"attributes\":{\"items\":[{\"id\":\"efa99d58-d5c5-4f4e-bda1-976a59de2bae\",\"type\":\"LegendItem\"},{\"id\":\"43870caa-8ebf-4031-8f1f-d502fbf2ed52\",\"type\":\"LegendItem\"},{\"id\":\"afc4da99-4d62-4af0-b122-191dd0d6622b\",\"type\":\"LegendItem\"}],\"plot\":{\"id\":\"3d6078b3-e270-445f-8d3a-ccaa0270e916\",\"subtype\":\"Figure\",\"type\":\"Plot\"},\"visible\":false},\"id\":\"b628f508-f6be-4d37-bd36-c08914025da8\",\"type\":\"Legend\"},{\"attributes\":{\"range\":{\"id\":\"8de73719-195b-4d4a-9566-88fcf2fdce35\",\"type\":\"FactorRange\"},\"value\":0.25},\"id\":\"b0df5d24-b7d6-4802-8a3f-1a95e3ace24c\",\"type\":\"Dodge\"},{\"attributes\":{},\"id\":\"a68d6f99-997c-42e2-9822-8b3f70ff601f\",\"type\":\"CategoricalScale\"},{\"attributes\":{\"text\":{\"field\":\"Avg_weekly\"},\"text_align\":\"center\",\"text_alpha\":{\"value\":0.1},\"text_color\":{\"value\":\"black\"},\"text_font_size\":{\"value\":\"7pt\"},\"x\":{\"field\":\"Category\",\"transform\":{\"id\":\"6c48b8b4-9ad0-477e-b7c4-730ab76f0614\",\"type\":\"Dodge\"}},\"y\":{\"field\":\"Avg_weekly\"}},\"id\":\"d2189c32-e563-4dba-9fb0-056f1fb13e58\",\"type\":\"Text\"},{\"attributes\":{\"source\":{\"id\":\"153a28c0-23ef-4f8e-9c14-b195177b3ff4\",\"type\":\"ColumnDataSource\"}},\"id\":\"87e3912c-e668-4088-b4bf-dca549768373\",\"type\":\"CDSView\"},{\"attributes\":{\"below\":[{\"id\":\"19499a4f-2e9c-4be1-b819-926ebcbde894\",\"type\":\"CategoricalAxis\"}],\"left\":[{\"id\":\"714e5630-1ff0-43ad-b79e-d7236b533e21\",\"type\":\"LinearAxis\"}],\"plot_height\":250,\"renderers\":[{\"id\":\"19499a4f-2e9c-4be1-b819-926ebcbde894\",\"type\":\"CategoricalAxis\"},{\"id\":\"a996a9b7-f0bb-4593-804a-f152c3c72a8e\",\"type\":\"Grid\"},{\"id\":\"714e5630-1ff0-43ad-b79e-d7236b533e21\",\"type\":\"LinearAxis\"},{\"id\":\"bd3fe61f-6e09-485d-81e4-06c203213800\",\"type\":\"Grid\"},{\"id\":\"b628f508-f6be-4d37-bd36-c08914025da8\",\"type\":\"Legend\"},{\"id\":\"35f63016-b6db-4e28-a31a-50dd6811bd55\",\"type\":\"GlyphRenderer\"},{\"id\":\"0fc1631d-978c-4bbb-8989-82a3f290e208\",\"type\":\"GlyphRenderer\"},{\"id\":\"f7ba4d12-5fff-4c10-b782-713cbda5b4cb\",\"type\":\"GlyphRenderer\"},{\"id\":\"18d66e8d-9cdb-4939-b54d-866e114d37e1\",\"type\":\"GlyphRenderer\"},{\"id\":\"0b8faae7-165a-4113-8323-b7b51010c049\",\"type\":\"GlyphRenderer\"},{\"id\":\"603d71eb-ea6e-40e1-894c-f977c0faee09\",\"type\":\"GlyphRenderer\"}],\"title\":{\"id\":\"de1af4da-84ef-45f9-bb49-f571b417564f\",\"type\":\"Title\"},\"toolbar\":{\"id\":\"48a26bb0-7334-4107-90ca-0e18a703fbe1\",\"type\":\"Toolbar\"},\"toolbar_location\":null,\"x_range\":{\"id\":\"8de73719-195b-4d4a-9566-88fcf2fdce35\",\"type\":\"FactorRange\"},\"x_scale\":{\"id\":\"a68d6f99-997c-42e2-9822-8b3f70ff601f\",\"type\":\"CategoricalScale\"},\"y_range\":{\"id\":\"fc04db35-a4d7-462e-ae9e-fc7a0cd96028\",\"type\":\"DataRange1d\"},\"y_scale\":{\"id\":\"c831a055-8c26-4344-9ad6-439bd7e52da1\",\"type\":\"LinearScale\"}},\"id\":\"3d6078b3-e270-445f-8d3a-ccaa0270e916\",\"subtype\":\"Figure\",\"type\":\"Plot\"},{\"attributes\":{\"fill_alpha\":{\"value\":0.1},\"fill_color\":{\"value\":\"#1f77b4\"},\"line_alpha\":{\"value\":0.1},\"line_color\":{\"value\":\"#1f77b4\"},\"top\":{\"field\":\"Today\"},\"width\":{\"value\":0.2},\"x\":{\"field\":\"Category\",\"transform\":{\"id\":\"b0df5d24-b7d6-4802-8a3f-1a95e3ace24c\",\"type\":\"Dodge\"}}},\"id\":\"b0887537-5275-4404-a810-96e043529b44\",\"type\":\"VBar\"},{\"attributes\":{\"fill_color\":{\"value\":\"#e84d60\"},\"line_color\":{\"value\":\"#e84d60\"},\"top\":{\"field\":\"Today\"},\"width\":{\"value\":0.2},\"x\":{\"field\":\"Category\",\"transform\":{\"id\":\"b0df5d24-b7d6-4802-8a3f-1a95e3ace24c\",\"type\":\"Dodge\"}}},\"id\":\"38435ac6-9dd3-46e0-8e8a-07e831f58417\",\"type\":\"VBar\"},{\"attributes\":{\"label\":{\"value\":\"Today\"},\"renderers\":[{\"id\":\"0b8faae7-165a-4113-8323-b7b51010c049\",\"type\":\"GlyphRenderer\"}]},\"id\":\"afc4da99-4d62-4af0-b122-191dd0d6622b\",\"type\":\"LegendItem\"},{\"attributes\":{\"source\":{\"id\":\"153a28c0-23ef-4f8e-9c14-b195177b3ff4\",\"type\":\"ColumnDataSource\"}},\"id\":\"12d79691-a586-434e-a338-6083fd164a5a\",\"type\":\"CDSView\"},{\"attributes\":{\"fill_alpha\":{\"value\":0.1},\"fill_color\":{\"value\":\"#1f77b4\"},\"line_alpha\":{\"value\":0.1},\"line_color\":{\"value\":\"#1f77b4\"},\"top\":{\"field\":\"Ideal\"},\"width\":{\"value\":0.2},\"x\":{\"field\":\"Category\",\"transform\":{\"id\":\"e4a4c865-8dbd-4405-9fd4-9913c74189c0\",\"type\":\"Dodge\"}}},\"id\":\"2c5d5cc0-d0dd-4ed7-bbca-ded87efc4406\",\"type\":\"VBar\"},{\"attributes\":{\"source\":{\"id\":\"153a28c0-23ef-4f8e-9c14-b195177b3ff4\",\"type\":\"ColumnDataSource\"}},\"id\":\"68cd7a77-2830-4060-abbe-b1b0e1979b4d\",\"type\":\"CDSView\"},{\"attributes\":{\"text\":{\"field\":\"Today\"},\"text_align\":\"center\",\"text_alpha\":{\"value\":0.1},\"text_color\":{\"value\":\"black\"},\"text_font_size\":{\"value\":\"7pt\"},\"x\":{\"field\":\"Category\",\"transform\":{\"id\":\"6a8820ab-80cb-4906-adc1-c34adecfedcb\",\"type\":\"Dodge\"}},\"y\":{\"field\":\"Today\"}},\"id\":\"cac83c53-d7fe-403b-86f7-d862ba2abffe\",\"type\":\"Text\"},{\"attributes\":{\"callback\":null,\"column_names\":[\"Category\",\"Ideal\",\"Avg_weekly\",\"Today\"],\"data\":{\"Avg_weekly\":[0.4,0.0,0.5,2.2,0.2,0.0],\"Category\":[\"careem\",\"comp_namaaz\",\"ft_others\",\"goal\",\"meeting\",\"social\"],\"Ideal\":[3.0,0.5,1.0,2.0,1.5,0.5],\"Today\":[0.0,0.0,0.0,0.0,1.2,0.0]}},\"id\":\"153a28c0-23ef-4f8e-9c14-b195177b3ff4\",\"type\":\"ColumnDataSource\"},{\"attributes\":{\"source\":{\"id\":\"153a28c0-23ef-4f8e-9c14-b195177b3ff4\",\"type\":\"ColumnDataSource\"}},\"id\":\"8e0c81e6-012d-49fe-807a-91ba47bc28f6\",\"type\":\"CDSView\"},{\"attributes\":{\"source\":{\"id\":\"153a28c0-23ef-4f8e-9c14-b195177b3ff4\",\"type\":\"ColumnDataSource\"}},\"id\":\"bb0112e2-c4b2-4856-b3b1-19b9f6374947\",\"type\":\"CDSView\"},{\"attributes\":{},\"id\":\"c831a055-8c26-4344-9ad6-439bd7e52da1\",\"type\":\"LinearScale\"},{\"attributes\":{\"data_source\":{\"id\":\"153a28c0-23ef-4f8e-9c14-b195177b3ff4\",\"type\":\"ColumnDataSource\"},\"glyph\":{\"id\":\"c14dddca-9b93-437a-8abc-0be04cddad87\",\"type\":\"VBar\"},\"hover_glyph\":null,\"muted_glyph\":null,\"nonselection_glyph\":{\"id\":\"2c5d5cc0-d0dd-4ed7-bbca-ded87efc4406\",\"type\":\"VBar\"},\"selection_glyph\":null,\"view\":{\"id\":\"87e3912c-e668-4088-b4bf-dca549768373\",\"type\":\"CDSView\"}},\"id\":\"35f63016-b6db-4e28-a31a-50dd6811bd55\",\"type\":\"GlyphRenderer\"},{\"attributes\":{\"range\":{\"id\":\"8de73719-195b-4d4a-9566-88fcf2fdce35\",\"type\":\"FactorRange\"},\"value\":0.25},\"id\":\"6a8820ab-80cb-4906-adc1-c34adecfedcb\",\"type\":\"Dodge\"},{\"attributes\":{\"text\":{\"field\":\"Today\"},\"text_align\":\"center\",\"text_color\":{\"value\":\"black\"},\"text_font_size\":{\"value\":\"7pt\"},\"x\":{\"field\":\"Category\",\"transform\":{\"id\":\"6a8820ab-80cb-4906-adc1-c34adecfedcb\",\"type\":\"Dodge\"}},\"y\":{\"field\":\"Today\"}},\"id\":\"9a577d78-4a3d-4542-8f98-12fabbc3df2d\",\"type\":\"Text\"},{\"attributes\":{\"source\":{\"id\":\"153a28c0-23ef-4f8e-9c14-b195177b3ff4\",\"type\":\"ColumnDataSource\"}},\"id\":\"dd829372-d5e8-4750-ae73-19b4fd5c0473\",\"type\":\"CDSView\"},{\"attributes\":{\"text\":{\"field\":\"Avg_weekly\"},\"text_align\":\"center\",\"text_color\":{\"value\":\"black\"},\"text_font_size\":{\"value\":\"7pt\"},\"x\":{\"field\":\"Category\",\"transform\":{\"id\":\"6c48b8b4-9ad0-477e-b7c4-730ab76f0614\",\"type\":\"Dodge\"}},\"y\":{\"field\":\"Avg_weekly\"}},\"id\":\"45001086-5754-4eea-91a8-30da31874bfb\",\"type\":\"Text\"},{\"attributes\":{\"align\":\"center\",\"plot\":null,\"text\":\"Daily status (Ideal vs Avg vs Today)\",\"text_color\":{\"value\":\"maroon\"}},\"id\":\"de1af4da-84ef-45f9-bb49-f571b417564f\",\"type\":\"Title\"},{\"attributes\":{\"data_source\":{\"id\":\"153a28c0-23ef-4f8e-9c14-b195177b3ff4\",\"type\":\"ColumnDataSource\"},\"glyph\":{\"id\":\"9c227c5e-2295-428e-83a1-76b4bc6f6934\",\"type\":\"VBar\"},\"hover_glyph\":null,\"muted_glyph\":null,\"nonselection_glyph\":{\"id\":\"9bf00b16-10e2-43cc-b7c9-4b1769ada482\",\"type\":\"VBar\"},\"selection_glyph\":null,\"view\":{\"id\":\"68cd7a77-2830-4060-abbe-b1b0e1979b4d\",\"type\":\"CDSView\"}},\"id\":\"f7ba4d12-5fff-4c10-b782-713cbda5b4cb\",\"type\":\"GlyphRenderer\"},{\"attributes\":{\"text\":{\"field\":\"Ideal\"},\"text_align\":\"center\",\"text_color\":{\"value\":\"black\"},\"text_font_size\":{\"value\":\"7pt\"},\"x\":{\"field\":\"Category\",\"transform\":{\"id\":\"88f6f5b1-9140-49fb-b199-d73c66bb030d\",\"type\":\"Dodge\"}},\"y\":{\"field\":\"Ideal\"}},\"id\":\"329bea59-5fd6-4b7f-ba8a-fc7cb7ee8084\",\"type\":\"Text\"},{\"attributes\":{\"label\":{\"value\":\"Avg_weekly\"},\"renderers\":[{\"id\":\"f7ba4d12-5fff-4c10-b782-713cbda5b4cb\",\"type\":\"GlyphRenderer\"}]},\"id\":\"43870caa-8ebf-4031-8f1f-d502fbf2ed52\",\"type\":\"LegendItem\"},{\"attributes\":{\"fill_color\":{\"value\":\"#718dbf\"},\"line_color\":{\"value\":\"#718dbf\"},\"top\":{\"field\":\"Avg_weekly\"},\"width\":{\"value\":0.2},\"x\":{\"field\":\"Category\",\"transform\":{\"id\":\"2e44cf2e-6bc3-4d3c-9919-b125cbe7a75e\",\"type\":\"Dodge\"}}},\"id\":\"9c227c5e-2295-428e-83a1-76b4bc6f6934\",\"type\":\"VBar\"},{\"attributes\":{\"formatter\":{\"id\":\"6748d601-b62b-4a12-b233-41dfd4905ffb\",\"type\":\"BasicTickFormatter\"},\"plot\":{\"id\":\"3d6078b3-e270-445f-8d3a-ccaa0270e916\",\"subtype\":\"Figure\",\"type\":\"Plot\"},\"ticker\":{\"id\":\"8366339c-5de4-472b-81be-ac1299f3aea4\",\"type\":\"BasicTicker\"}},\"id\":\"714e5630-1ff0-43ad-b79e-d7236b533e21\",\"type\":\"LinearAxis\"},{\"attributes\":{\"label\":{\"value\":\"Ideal\"},\"renderers\":[{\"id\":\"35f63016-b6db-4e28-a31a-50dd6811bd55\",\"type\":\"GlyphRenderer\"}]},\"id\":\"efa99d58-d5c5-4f4e-bda1-976a59de2bae\",\"type\":\"LegendItem\"},{\"attributes\":{\"range\":{\"id\":\"8de73719-195b-4d4a-9566-88fcf2fdce35\",\"type\":\"FactorRange\"},\"value\":-0.25},\"id\":\"88f6f5b1-9140-49fb-b199-d73c66bb030d\",\"type\":\"Dodge\"},{\"attributes\":{},\"id\":\"6fd0b161-1ca7-4d59-a281-566b951af96c\",\"type\":\"CategoricalTickFormatter\"},{\"attributes\":{\"data_source\":{\"id\":\"153a28c0-23ef-4f8e-9c14-b195177b3ff4\",\"type\":\"ColumnDataSource\"},\"glyph\":{\"id\":\"38435ac6-9dd3-46e0-8e8a-07e831f58417\",\"type\":\"VBar\"},\"hover_glyph\":null,\"muted_glyph\":null,\"nonselection_glyph\":{\"id\":\"b0887537-5275-4404-a810-96e043529b44\",\"type\":\"VBar\"},\"selection_glyph\":null,\"view\":{\"id\":\"dd829372-d5e8-4750-ae73-19b4fd5c0473\",\"type\":\"CDSView\"}},\"id\":\"0b8faae7-165a-4113-8323-b7b51010c049\",\"type\":\"GlyphRenderer\"},{\"attributes\":{\"callback\":null,\"factors\":[\"careem\",\"comp_namaaz\",\"ft_others\",\"goal\",\"meeting\",\"social\"]},\"id\":\"8de73719-195b-4d4a-9566-88fcf2fdce35\",\"type\":\"FactorRange\"},{\"attributes\":{},\"id\":\"6748d601-b62b-4a12-b233-41dfd4905ffb\",\"type\":\"BasicTickFormatter\"},{\"attributes\":{\"data_source\":{\"id\":\"153a28c0-23ef-4f8e-9c14-b195177b3ff4\",\"type\":\"ColumnDataSource\"},\"glyph\":{\"id\":\"9a577d78-4a3d-4542-8f98-12fabbc3df2d\",\"type\":\"Text\"},\"hover_glyph\":null,\"muted_glyph\":null,\"nonselection_glyph\":{\"id\":\"cac83c53-d7fe-403b-86f7-d862ba2abffe\",\"type\":\"Text\"},\"selection_glyph\":null,\"view\":{\"id\":\"8e0c81e6-012d-49fe-807a-91ba47bc28f6\",\"type\":\"CDSView\"}},\"id\":\"603d71eb-ea6e-40e1-894c-f977c0faee09\",\"type\":\"GlyphRenderer\"},{\"attributes\":{\"formatter\":{\"id\":\"6fd0b161-1ca7-4d59-a281-566b951af96c\",\"type\":\"CategoricalTickFormatter\"},\"plot\":{\"id\":\"3d6078b3-e270-445f-8d3a-ccaa0270e916\",\"subtype\":\"Figure\",\"type\":\"Plot\"},\"ticker\":{\"id\":\"544cc00c-cfec-4159-9d4b-29dbdc21b089\",\"type\":\"CategoricalTicker\"}},\"id\":\"19499a4f-2e9c-4be1-b819-926ebcbde894\",\"type\":\"CategoricalAxis\"},{\"attributes\":{\"text\":{\"field\":\"Ideal\"},\"text_align\":\"center\",\"text_alpha\":{\"value\":0.1},\"text_color\":{\"value\":\"black\"},\"text_font_size\":{\"value\":\"7pt\"},\"x\":{\"field\":\"Category\",\"transform\":{\"id\":\"88f6f5b1-9140-49fb-b199-d73c66bb030d\",\"type\":\"Dodge\"}},\"y\":{\"field\":\"Ideal\"}},\"id\":\"86deae8a-99b0-4f93-b8e9-60e791d2b1f2\",\"type\":\"Text\"},{\"attributes\":{\"fill_color\":{\"value\":\"#c9d9d3\"},\"line_color\":{\"value\":\"#c9d9d3\"},\"top\":{\"field\":\"Ideal\"},\"width\":{\"value\":0.2},\"x\":{\"field\":\"Category\",\"transform\":{\"id\":\"e4a4c865-8dbd-4405-9fd4-9913c74189c0\",\"type\":\"Dodge\"}}},\"id\":\"c14dddca-9b93-437a-8abc-0be04cddad87\",\"type\":\"VBar\"},{\"attributes\":{\"active_drag\":\"auto\",\"active_inspect\":\"auto\",\"active_scroll\":\"auto\",\"active_tap\":\"auto\"},\"id\":\"48a26bb0-7334-4107-90ca-0e18a703fbe1\",\"type\":\"Toolbar\"},{\"attributes\":{\"data_source\":{\"id\":\"153a28c0-23ef-4f8e-9c14-b195177b3ff4\",\"type\":\"ColumnDataSource\"},\"glyph\":{\"id\":\"45001086-5754-4eea-91a8-30da31874bfb\",\"type\":\"Text\"},\"hover_glyph\":null,\"muted_glyph\":null,\"nonselection_glyph\":{\"id\":\"d2189c32-e563-4dba-9fb0-056f1fb13e58\",\"type\":\"Text\"},\"selection_glyph\":null,\"view\":{\"id\":\"bb0112e2-c4b2-4856-b3b1-19b9f6374947\",\"type\":\"CDSView\"}},\"id\":\"18d66e8d-9cdb-4939-b54d-866e114d37e1\",\"type\":\"GlyphRenderer\"},{\"attributes\":{\"range\":{\"id\":\"8de73719-195b-4d4a-9566-88fcf2fdce35\",\"type\":\"FactorRange\"}},\"id\":\"6c48b8b4-9ad0-477e-b7c4-730ab76f0614\",\"type\":\"Dodge\"},{\"attributes\":{\"data_source\":{\"id\":\"153a28c0-23ef-4f8e-9c14-b195177b3ff4\",\"type\":\"ColumnDataSource\"},\"glyph\":{\"id\":\"329bea59-5fd6-4b7f-ba8a-fc7cb7ee8084\",\"type\":\"Text\"},\"hover_glyph\":null,\"muted_glyph\":null,\"nonselection_glyph\":{\"id\":\"86deae8a-99b0-4f93-b8e9-60e791d2b1f2\",\"type\":\"Text\"},\"selection_glyph\":null,\"view\":{\"id\":\"12d79691-a586-434e-a338-6083fd164a5a\",\"type\":\"CDSView\"}},\"id\":\"0fc1631d-978c-4bbb-8989-82a3f290e208\",\"type\":\"GlyphRenderer\"},{\"attributes\":{\"range\":{\"id\":\"8de73719-195b-4d4a-9566-88fcf2fdce35\",\"type\":\"FactorRange\"},\"value\":-0.25},\"id\":\"e4a4c865-8dbd-4405-9fd4-9913c74189c0\",\"type\":\"Dodge\"},{\"attributes\":{\"dimension\":1,\"plot\":{\"id\":\"3d6078b3-e270-445f-8d3a-ccaa0270e916\",\"subtype\":\"Figure\",\"type\":\"Plot\"},\"ticker\":{\"id\":\"8366339c-5de4-472b-81be-ac1299f3aea4\",\"type\":\"BasicTicker\"}},\"id\":\"bd3fe61f-6e09-485d-81e4-06c203213800\",\"type\":\"Grid\"},{\"attributes\":{\"callback\":null},\"id\":\"fc04db35-a4d7-462e-ae9e-fc7a0cd96028\",\"type\":\"DataRange1d\"},{\"attributes\":{\"range\":{\"id\":\"8de73719-195b-4d4a-9566-88fcf2fdce35\",\"type\":\"FactorRange\"}},\"id\":\"2e44cf2e-6bc3-4d3c-9919-b125cbe7a75e\",\"type\":\"Dodge\"},{\"attributes\":{},\"id\":\"544cc00c-cfec-4159-9d4b-29dbdc21b089\",\"type\":\"CategoricalTicker\"},{\"attributes\":{\"plot\":{\"id\":\"3d6078b3-e270-445f-8d3a-ccaa0270e916\",\"subtype\":\"Figure\",\"type\":\"Plot\"},\"ticker\":{\"id\":\"544cc00c-cfec-4159-9d4b-29dbdc21b089\",\"type\":\"CategoricalTicker\"}},\"id\":\"a996a9b7-f0bb-4593-804a-f152c3c72a8e\",\"type\":\"Grid\"}],\"root_ids\":[\"3d6078b3-e270-445f-8d3a-ccaa0270e916\"]},\"title\":\"Bokeh Application\",\"version\":\"0.12.13\"}}\n",
       "        </script>\n",
       "        <script type=\"text/javascript\">\n",
       "          (function() {\n",
       "            var fn = function() {\n",
       "              Bokeh.safely(function() {\n",
       "                (function(root) {\n",
       "                  function embed_document(root) {\n",
       "                    \n",
       "                  var docs_json = document.getElementById('e023be6f-fc64-4d04-99ab-1a2653e81fe1').textContent;\n",
       "                  var render_items = [{\"docid\":\"eed48432-f1f5-4ac5-bfbc-ae3f917a1ed0\",\"elementid\":\"19e7ed96-5ba9-4e4a-a7eb-5bc787056020\",\"modelid\":\"3d6078b3-e270-445f-8d3a-ccaa0270e916\"}];\n",
       "                  root.Bokeh.embed.embed_items(docs_json, render_items);\n",
       "                \n",
       "                  }\n",
       "                  if (root.Bokeh !== undefined) {\n",
       "                    embed_document(root);\n",
       "                  } else {\n",
       "                    var attempts = 0;\n",
       "                    var timer = setInterval(function(root) {\n",
       "                      if (root.Bokeh !== undefined) {\n",
       "                        embed_document(root);\n",
       "                        clearInterval(timer);\n",
       "                      }\n",
       "                      attempts++;\n",
       "                      if (attempts > 100) {\n",
       "                        console.log(\"Bokeh: ERROR: Unable to run BokehJS code because BokehJS library is missing\")\n",
       "                        clearInterval(timer);\n",
       "                      }\n",
       "                    }, 10, root)\n",
       "                  }\n",
       "                })(window);\n",
       "              });\n",
       "            };\n",
       "            if (document.readyState != \"loading\") fn();\n",
       "            else document.addEventListener(\"DOMContentLoaded\", fn);\n",
       "          })();\n",
       "        </script>\n",
       "    </body>\n",
       "</html>"
      ],
      "text/plain": [
       "<IPython.core.display.HTML object>"
      ]
     },
     "metadata": {},
     "output_type": "display_data"
    },
    {
     "data": {
      "text/html": [
       "\n",
       "<!DOCTYPE html>\n",
       "<html lang=\"en\">\n",
       "    <head>\n",
       "        <meta charset=\"utf-8\">\n",
       "        <title>Bokeh Application</title>\n",
       "        \n",
       "<link rel=\"stylesheet\" href=\"https://cdn.pydata.org/bokeh/release/bokeh-0.12.13.min.css\" type=\"text/css\" />\n",
       "        \n",
       "<script type=\"text/javascript\" src=\"https://cdn.pydata.org/bokeh/release/bokeh-0.12.13.min.js\"></script>\n",
       "<script type=\"text/javascript\">\n",
       "    Bokeh.set_log_level(\"info\");\n",
       "</script>\n",
       "        <style>\n",
       "          html {\n",
       "            width: 100%;\n",
       "            height: 100%;\n",
       "          }\n",
       "          body {\n",
       "            width: 90%;\n",
       "            height: 100%;\n",
       "            margin: auto;\n",
       "          }\n",
       "        </style>\n",
       "    </head>\n",
       "    <body>\n",
       "        \n",
       "        <div class=\"bk-root\">\n",
       "            <div class=\"bk-plotdiv\" id=\"ac6d4f10-16e4-4d91-9746-7f0b03114665\"></div>\n",
       "        </div>\n",
       "        \n",
       "        <script type=\"application/json\" id=\"7512ea11-8a1c-49ea-b426-6b33018e323f\">\n",
       "          {\"f536b2cf-d1e6-4a3d-b8e6-190f510d797b\":{\"roots\":{\"references\":[{\"attributes\":{\"callback\":null},\"id\":\"96b7bf2c-7190-45c8-8111-320f18e4509e\",\"type\":\"DataRange1d\"},{\"attributes\":{\"label\":{\"value\":\"actual\"},\"renderers\":[{\"id\":\"156ab08c-9cb2-4c63-81be-e4bfec288efd\",\"type\":\"GlyphRenderer\"}]},\"id\":\"a0cf934d-30e4-4ad4-b53a-7f49584bc19e\",\"type\":\"LegendItem\"},{\"attributes\":{\"source\":{\"id\":\"9ebf9911-858c-4eaf-a804-ffc86e70e10c\",\"type\":\"ColumnDataSource\"}},\"id\":\"05258bc5-2dfc-43b0-a16a-ebc5493e286e\",\"type\":\"CDSView\"},{\"attributes\":{},\"id\":\"76a3d4ad-6cab-4155-b534-623293a96a42\",\"type\":\"CategoricalTickFormatter\"},{\"attributes\":{\"source\":{\"id\":\"9ebf9911-858c-4eaf-a804-ffc86e70e10c\",\"type\":\"ColumnDataSource\"}},\"id\":\"ed498d1d-fb64-49b3-96be-7400ebcb2d83\",\"type\":\"CDSView\"},{\"attributes\":{\"items\":[{\"id\":\"82f5273f-2758-45ae-8e07-db24fd71847e\",\"type\":\"LegendItem\"},{\"id\":\"d46d3cf2-3c6f-4cfb-92f1-0535a57a3df8\",\"type\":\"LegendItem\"},{\"id\":\"a0cf934d-30e4-4ad4-b53a-7f49584bc19e\",\"type\":\"LegendItem\"}],\"plot\":{\"id\":\"487d28df-1a3e-4725-b84c-306d09f9b7f7\",\"subtype\":\"Figure\",\"type\":\"Plot\"},\"visible\":false},\"id\":\"733dfe99-4b29-453e-9ee4-82083098137e\",\"type\":\"Legend\"},{\"attributes\":{\"range\":{\"id\":\"55927f1b-f40d-455d-a27e-2e06a539f473\",\"type\":\"FactorRange\"}},\"id\":\"da04223c-2654-43b1-963a-4c95d56e44b2\",\"type\":\"Dodge\"},{\"attributes\":{\"fill_alpha\":{\"value\":0.1},\"fill_color\":{\"value\":\"#1f77b4\"},\"line_alpha\":{\"value\":0.1},\"line_color\":{\"value\":\"#1f77b4\"},\"top\":{\"field\":\"actual\"},\"width\":{\"value\":0.2},\"x\":{\"field\":\"Category\",\"transform\":{\"id\":\"99817572-d9ab-42d8-93ed-3f62e0a64cf9\",\"type\":\"Dodge\"}}},\"id\":\"ccd5d4fc-8e82-4ab2-aa2b-480a68a8c374\",\"type\":\"VBar\"},{\"attributes\":{\"range\":{\"id\":\"55927f1b-f40d-455d-a27e-2e06a539f473\",\"type\":\"FactorRange\"}},\"id\":\"1a6fc1ba-fd93-4df0-8cda-138bc69e887a\",\"type\":\"Dodge\"},{\"attributes\":{\"fill_alpha\":{\"value\":0.1},\"fill_color\":{\"value\":\"#1f77b4\"},\"line_alpha\":{\"value\":0.1},\"line_color\":{\"value\":\"#1f77b4\"},\"top\":{\"field\":\"ideal\"},\"width\":{\"value\":0.2},\"x\":{\"field\":\"Category\",\"transform\":{\"id\":\"1a6fc1ba-fd93-4df0-8cda-138bc69e887a\",\"type\":\"Dodge\"}}},\"id\":\"a39a04b2-4ed0-4e6b-a315-53153136688d\",\"type\":\"VBar\"},{\"attributes\":{\"range\":{\"id\":\"55927f1b-f40d-455d-a27e-2e06a539f473\",\"type\":\"FactorRange\"},\"value\":-0.25},\"id\":\"aee0f577-9359-43d1-886e-852f86399763\",\"type\":\"Dodge\"},{\"attributes\":{\"source\":{\"id\":\"9ebf9911-858c-4eaf-a804-ffc86e70e10c\",\"type\":\"ColumnDataSource\"}},\"id\":\"df31d13c-cb96-4f64-abb1-2787c8dac68e\",\"type\":\"CDSView\"},{\"attributes\":{\"data_source\":{\"id\":\"9ebf9911-858c-4eaf-a804-ffc86e70e10c\",\"type\":\"ColumnDataSource\"},\"glyph\":{\"id\":\"8599fa68-fe3a-4553-a301-d792057f1038\",\"type\":\"Text\"},\"hover_glyph\":null,\"muted_glyph\":null,\"nonselection_glyph\":{\"id\":\"4de437c7-c14e-4d94-af75-a99fedda9505\",\"type\":\"Text\"},\"selection_glyph\":null,\"view\":{\"id\":\"ed498d1d-fb64-49b3-96be-7400ebcb2d83\",\"type\":\"CDSView\"}},\"id\":\"49fe44da-9aa8-4271-b2e4-ea806a1f6960\",\"type\":\"GlyphRenderer\"},{\"attributes\":{\"text\":{\"field\":\"total_planned\"},\"text_align\":\"center\",\"text_color\":{\"value\":\"black\"},\"text_font_size\":{\"value\":\"7pt\"},\"x\":{\"field\":\"Category\",\"transform\":{\"id\":\"aee0f577-9359-43d1-886e-852f86399763\",\"type\":\"Dodge\"}},\"y\":{\"field\":\"total_planned\"}},\"id\":\"43d5644a-7990-4ae2-a0cd-2895d16e21f5\",\"type\":\"Text\"},{\"attributes\":{\"callback\":null,\"factors\":[\"ft_others\",\"goal\",\"ilm\",\"quran\"]},\"id\":\"55927f1b-f40d-455d-a27e-2e06a539f473\",\"type\":\"FactorRange\"},{\"attributes\":{\"text\":{\"field\":\"actual\"},\"text_align\":\"center\",\"text_alpha\":{\"value\":0.1},\"text_color\":{\"value\":\"black\"},\"text_font_size\":{\"value\":\"7pt\"},\"x\":{\"field\":\"Category\",\"transform\":{\"id\":\"1291b9e8-4ca7-4fb6-9e6f-8181138a6eaf\",\"type\":\"Dodge\"}},\"y\":{\"field\":\"actual\"}},\"id\":\"0b42c7eb-e77d-41ac-a17f-df8f476c6238\",\"type\":\"Text\"},{\"attributes\":{\"source\":{\"id\":\"9ebf9911-858c-4eaf-a804-ffc86e70e10c\",\"type\":\"ColumnDataSource\"}},\"id\":\"9063a257-ecd3-4354-8d4a-0a2b0a8dfef2\",\"type\":\"CDSView\"},{\"attributes\":{\"callback\":null,\"column_names\":[\"Category\",\"total_planned\",\"actual\",\"ideal\"],\"data\":{\"Category\":[\"ft_others\",\"goal\",\"ilm\",\"quran\"],\"actual\":[3.3,13.2,0.0,0.0],\"ideal\":[2.9,8.0,4.0,4.0],\"total_planned\":[5,14,7,7]}},\"id\":\"9ebf9911-858c-4eaf-a804-ffc86e70e10c\",\"type\":\"ColumnDataSource\"},{\"attributes\":{\"data_source\":{\"id\":\"9ebf9911-858c-4eaf-a804-ffc86e70e10c\",\"type\":\"ColumnDataSource\"},\"glyph\":{\"id\":\"398bfd51-b93b-4610-8000-aef6a0e66ee9\",\"type\":\"VBar\"},\"hover_glyph\":null,\"muted_glyph\":null,\"nonselection_glyph\":{\"id\":\"85125c5c-1ed0-430f-b5e8-78bd08eb59b4\",\"type\":\"VBar\"},\"selection_glyph\":null,\"view\":{\"id\":\"df31d13c-cb96-4f64-abb1-2787c8dac68e\",\"type\":\"CDSView\"}},\"id\":\"1ffb7be2-eae1-4eee-aa50-bd4939393ebb\",\"type\":\"GlyphRenderer\"},{\"attributes\":{\"data_source\":{\"id\":\"9ebf9911-858c-4eaf-a804-ffc86e70e10c\",\"type\":\"ColumnDataSource\"},\"glyph\":{\"id\":\"7af1910c-d11b-4cad-b3b5-46a4388dfe90\",\"type\":\"Text\"},\"hover_glyph\":null,\"muted_glyph\":null,\"nonselection_glyph\":{\"id\":\"0b42c7eb-e77d-41ac-a17f-df8f476c6238\",\"type\":\"Text\"},\"selection_glyph\":null,\"view\":{\"id\":\"cfe2c6f0-e78e-4cef-86d5-41be8ddc6683\",\"type\":\"CDSView\"}},\"id\":\"1d11ba55-a456-45c5-9774-4a8c28f06e2e\",\"type\":\"GlyphRenderer\"},{\"attributes\":{\"label\":{\"value\":\"total_planned\"},\"renderers\":[{\"id\":\"1ffb7be2-eae1-4eee-aa50-bd4939393ebb\",\"type\":\"GlyphRenderer\"}]},\"id\":\"82f5273f-2758-45ae-8e07-db24fd71847e\",\"type\":\"LegendItem\"},{\"attributes\":{\"formatter\":{\"id\":\"76a3d4ad-6cab-4155-b534-623293a96a42\",\"type\":\"CategoricalTickFormatter\"},\"plot\":{\"id\":\"487d28df-1a3e-4725-b84c-306d09f9b7f7\",\"subtype\":\"Figure\",\"type\":\"Plot\"},\"ticker\":{\"id\":\"547df852-568e-49ab-98a8-4af259c1c2b5\",\"type\":\"CategoricalTicker\"}},\"id\":\"e2621ffb-8eb9-4c22-adcb-4831da4dd4da\",\"type\":\"CategoricalAxis\"},{\"attributes\":{\"formatter\":{\"id\":\"bf849a25-cab1-4983-97ab-f533016b9b94\",\"type\":\"BasicTickFormatter\"},\"plot\":{\"id\":\"487d28df-1a3e-4725-b84c-306d09f9b7f7\",\"subtype\":\"Figure\",\"type\":\"Plot\"},\"ticker\":{\"id\":\"5b78ffe0-fe23-461c-b997-ce30cbded159\",\"type\":\"BasicTicker\"}},\"id\":\"b85474db-279f-4a60-97ff-ec2bacbe64b0\",\"type\":\"LinearAxis\"},{\"attributes\":{\"data_source\":{\"id\":\"9ebf9911-858c-4eaf-a804-ffc86e70e10c\",\"type\":\"ColumnDataSource\"},\"glyph\":{\"id\":\"1d1c6d93-7170-4bc7-9786-cab2309a806c\",\"type\":\"VBar\"},\"hover_glyph\":null,\"muted_glyph\":null,\"nonselection_glyph\":{\"id\":\"ccd5d4fc-8e82-4ab2-aa2b-480a68a8c374\",\"type\":\"VBar\"},\"selection_glyph\":null,\"view\":{\"id\":\"05258bc5-2dfc-43b0-a16a-ebc5493e286e\",\"type\":\"CDSView\"}},\"id\":\"156ab08c-9cb2-4c63-81be-e4bfec288efd\",\"type\":\"GlyphRenderer\"},{\"attributes\":{\"text\":{\"field\":\"total_planned\"},\"text_align\":\"center\",\"text_alpha\":{\"value\":0.1},\"text_color\":{\"value\":\"black\"},\"text_font_size\":{\"value\":\"7pt\"},\"x\":{\"field\":\"Category\",\"transform\":{\"id\":\"aee0f577-9359-43d1-886e-852f86399763\",\"type\":\"Dodge\"}},\"y\":{\"field\":\"total_planned\"}},\"id\":\"0f6ba589-8414-4922-a1ec-c5ec6a17cb6d\",\"type\":\"Text\"},{\"attributes\":{\"data_source\":{\"id\":\"9ebf9911-858c-4eaf-a804-ffc86e70e10c\",\"type\":\"ColumnDataSource\"},\"glyph\":{\"id\":\"43d5644a-7990-4ae2-a0cd-2895d16e21f5\",\"type\":\"Text\"},\"hover_glyph\":null,\"muted_glyph\":null,\"nonselection_glyph\":{\"id\":\"0f6ba589-8414-4922-a1ec-c5ec6a17cb6d\",\"type\":\"Text\"},\"selection_glyph\":null,\"view\":{\"id\":\"a69417a9-6e02-4945-af54-c0ae3b88b6b3\",\"type\":\"CDSView\"}},\"id\":\"3acd1509-2f9f-480c-9365-1e9bd6c5d7ef\",\"type\":\"GlyphRenderer\"},{\"attributes\":{},\"id\":\"5b78ffe0-fe23-461c-b997-ce30cbded159\",\"type\":\"BasicTicker\"},{\"attributes\":{\"data_source\":{\"id\":\"9ebf9911-858c-4eaf-a804-ffc86e70e10c\",\"type\":\"ColumnDataSource\"},\"glyph\":{\"id\":\"cd08d254-ffbc-408d-9350-73a7686b4ea4\",\"type\":\"VBar\"},\"hover_glyph\":null,\"muted_glyph\":null,\"nonselection_glyph\":{\"id\":\"a39a04b2-4ed0-4e6b-a315-53153136688d\",\"type\":\"VBar\"},\"selection_glyph\":null,\"view\":{\"id\":\"9063a257-ecd3-4354-8d4a-0a2b0a8dfef2\",\"type\":\"CDSView\"}},\"id\":\"bffbbf5a-4b3c-4a75-88c3-cd7dfbfc00e9\",\"type\":\"GlyphRenderer\"},{\"attributes\":{\"align\":\"center\",\"plot\":null,\"text\":\"Weakly status (Planned vs Ideal vs Actual)\",\"text_color\":{\"value\":\"maroon\"}},\"id\":\"95ecaed5-da68-48e2-9d93-a734188f8bf3\",\"type\":\"Title\"},{\"attributes\":{\"range\":{\"id\":\"55927f1b-f40d-455d-a27e-2e06a539f473\",\"type\":\"FactorRange\"},\"value\":0.25},\"id\":\"99817572-d9ab-42d8-93ed-3f62e0a64cf9\",\"type\":\"Dodge\"},{\"attributes\":{},\"id\":\"bf849a25-cab1-4983-97ab-f533016b9b94\",\"type\":\"BasicTickFormatter\"},{\"attributes\":{\"source\":{\"id\":\"9ebf9911-858c-4eaf-a804-ffc86e70e10c\",\"type\":\"ColumnDataSource\"}},\"id\":\"a69417a9-6e02-4945-af54-c0ae3b88b6b3\",\"type\":\"CDSView\"},{\"attributes\":{\"fill_color\":{\"value\":\"#718dbf\"},\"line_color\":{\"value\":\"#718dbf\"},\"top\":{\"field\":\"ideal\"},\"width\":{\"value\":0.2},\"x\":{\"field\":\"Category\",\"transform\":{\"id\":\"1a6fc1ba-fd93-4df0-8cda-138bc69e887a\",\"type\":\"Dodge\"}}},\"id\":\"cd08d254-ffbc-408d-9350-73a7686b4ea4\",\"type\":\"VBar\"},{\"attributes\":{\"fill_color\":{\"value\":\"#e84d60\"},\"line_color\":{\"value\":\"#e84d60\"},\"top\":{\"field\":\"actual\"},\"width\":{\"value\":0.2},\"x\":{\"field\":\"Category\",\"transform\":{\"id\":\"99817572-d9ab-42d8-93ed-3f62e0a64cf9\",\"type\":\"Dodge\"}}},\"id\":\"1d1c6d93-7170-4bc7-9786-cab2309a806c\",\"type\":\"VBar\"},{\"attributes\":{\"text\":{\"field\":\"ideal\"},\"text_align\":\"center\",\"text_alpha\":{\"value\":0.1},\"text_color\":{\"value\":\"black\"},\"text_font_size\":{\"value\":\"7pt\"},\"x\":{\"field\":\"Category\",\"transform\":{\"id\":\"da04223c-2654-43b1-963a-4c95d56e44b2\",\"type\":\"Dodge\"}},\"y\":{\"field\":\"ideal\"}},\"id\":\"4de437c7-c14e-4d94-af75-a99fedda9505\",\"type\":\"Text\"},{\"attributes\":{\"source\":{\"id\":\"9ebf9911-858c-4eaf-a804-ffc86e70e10c\",\"type\":\"ColumnDataSource\"}},\"id\":\"cfe2c6f0-e78e-4cef-86d5-41be8ddc6683\",\"type\":\"CDSView\"},{\"attributes\":{\"plot\":{\"id\":\"487d28df-1a3e-4725-b84c-306d09f9b7f7\",\"subtype\":\"Figure\",\"type\":\"Plot\"},\"ticker\":{\"id\":\"547df852-568e-49ab-98a8-4af259c1c2b5\",\"type\":\"CategoricalTicker\"}},\"id\":\"d6d8e20b-970b-4fb1-87c0-1c64011f429e\",\"type\":\"Grid\"},{\"attributes\":{\"text\":{\"field\":\"actual\"},\"text_align\":\"center\",\"text_color\":{\"value\":\"black\"},\"text_font_size\":{\"value\":\"7pt\"},\"x\":{\"field\":\"Category\",\"transform\":{\"id\":\"1291b9e8-4ca7-4fb6-9e6f-8181138a6eaf\",\"type\":\"Dodge\"}},\"y\":{\"field\":\"actual\"}},\"id\":\"7af1910c-d11b-4cad-b3b5-46a4388dfe90\",\"type\":\"Text\"},{\"attributes\":{\"fill_alpha\":{\"value\":0.1},\"fill_color\":{\"value\":\"#1f77b4\"},\"line_alpha\":{\"value\":0.1},\"line_color\":{\"value\":\"#1f77b4\"},\"top\":{\"field\":\"total_planned\"},\"width\":{\"value\":0.2},\"x\":{\"field\":\"Category\",\"transform\":{\"id\":\"7aa3a99e-1552-4e29-a7c6-013c2e1f0d79\",\"type\":\"Dodge\"}}},\"id\":\"85125c5c-1ed0-430f-b5e8-78bd08eb59b4\",\"type\":\"VBar\"},{\"attributes\":{\"range\":{\"id\":\"55927f1b-f40d-455d-a27e-2e06a539f473\",\"type\":\"FactorRange\"},\"value\":0.25},\"id\":\"1291b9e8-4ca7-4fb6-9e6f-8181138a6eaf\",\"type\":\"Dodge\"},{\"attributes\":{\"fill_color\":{\"value\":\"#c9d9d3\"},\"line_color\":{\"value\":\"#c9d9d3\"},\"top\":{\"field\":\"total_planned\"},\"width\":{\"value\":0.2},\"x\":{\"field\":\"Category\",\"transform\":{\"id\":\"7aa3a99e-1552-4e29-a7c6-013c2e1f0d79\",\"type\":\"Dodge\"}}},\"id\":\"398bfd51-b93b-4610-8000-aef6a0e66ee9\",\"type\":\"VBar\"},{\"attributes\":{},\"id\":\"2ccfd695-b8c9-4b3f-a7a2-7ef29c7e7253\",\"type\":\"LinearScale\"},{\"attributes\":{\"range\":{\"id\":\"55927f1b-f40d-455d-a27e-2e06a539f473\",\"type\":\"FactorRange\"},\"value\":-0.25},\"id\":\"7aa3a99e-1552-4e29-a7c6-013c2e1f0d79\",\"type\":\"Dodge\"},{\"attributes\":{\"text\":{\"field\":\"ideal\"},\"text_align\":\"center\",\"text_color\":{\"value\":\"black\"},\"text_font_size\":{\"value\":\"7pt\"},\"x\":{\"field\":\"Category\",\"transform\":{\"id\":\"da04223c-2654-43b1-963a-4c95d56e44b2\",\"type\":\"Dodge\"}},\"y\":{\"field\":\"ideal\"}},\"id\":\"8599fa68-fe3a-4553-a301-d792057f1038\",\"type\":\"Text\"},{\"attributes\":{\"below\":[{\"id\":\"e2621ffb-8eb9-4c22-adcb-4831da4dd4da\",\"type\":\"CategoricalAxis\"}],\"left\":[{\"id\":\"b85474db-279f-4a60-97ff-ec2bacbe64b0\",\"type\":\"LinearAxis\"}],\"plot_height\":250,\"renderers\":[{\"id\":\"e2621ffb-8eb9-4c22-adcb-4831da4dd4da\",\"type\":\"CategoricalAxis\"},{\"id\":\"d6d8e20b-970b-4fb1-87c0-1c64011f429e\",\"type\":\"Grid\"},{\"id\":\"b85474db-279f-4a60-97ff-ec2bacbe64b0\",\"type\":\"LinearAxis\"},{\"id\":\"3594c95c-29fd-4e2f-bb95-b0878666af8b\",\"type\":\"Grid\"},{\"id\":\"733dfe99-4b29-453e-9ee4-82083098137e\",\"type\":\"Legend\"},{\"id\":\"1ffb7be2-eae1-4eee-aa50-bd4939393ebb\",\"type\":\"GlyphRenderer\"},{\"id\":\"3acd1509-2f9f-480c-9365-1e9bd6c5d7ef\",\"type\":\"GlyphRenderer\"},{\"id\":\"bffbbf5a-4b3c-4a75-88c3-cd7dfbfc00e9\",\"type\":\"GlyphRenderer\"},{\"id\":\"49fe44da-9aa8-4271-b2e4-ea806a1f6960\",\"type\":\"GlyphRenderer\"},{\"id\":\"156ab08c-9cb2-4c63-81be-e4bfec288efd\",\"type\":\"GlyphRenderer\"},{\"id\":\"1d11ba55-a456-45c5-9774-4a8c28f06e2e\",\"type\":\"GlyphRenderer\"}],\"title\":{\"id\":\"95ecaed5-da68-48e2-9d93-a734188f8bf3\",\"type\":\"Title\"},\"toolbar\":{\"id\":\"a0104651-5047-49fd-b62f-1bac1c431ccc\",\"type\":\"Toolbar\"},\"toolbar_location\":null,\"x_range\":{\"id\":\"55927f1b-f40d-455d-a27e-2e06a539f473\",\"type\":\"FactorRange\"},\"x_scale\":{\"id\":\"30658aea-9493-4d9b-a7e9-7631615db631\",\"type\":\"CategoricalScale\"},\"y_range\":{\"id\":\"96b7bf2c-7190-45c8-8111-320f18e4509e\",\"type\":\"DataRange1d\"},\"y_scale\":{\"id\":\"2ccfd695-b8c9-4b3f-a7a2-7ef29c7e7253\",\"type\":\"LinearScale\"}},\"id\":\"487d28df-1a3e-4725-b84c-306d09f9b7f7\",\"subtype\":\"Figure\",\"type\":\"Plot\"},{\"attributes\":{},\"id\":\"547df852-568e-49ab-98a8-4af259c1c2b5\",\"type\":\"CategoricalTicker\"},{\"attributes\":{\"dimension\":1,\"plot\":{\"id\":\"487d28df-1a3e-4725-b84c-306d09f9b7f7\",\"subtype\":\"Figure\",\"type\":\"Plot\"},\"ticker\":{\"id\":\"5b78ffe0-fe23-461c-b997-ce30cbded159\",\"type\":\"BasicTicker\"}},\"id\":\"3594c95c-29fd-4e2f-bb95-b0878666af8b\",\"type\":\"Grid\"},{\"attributes\":{\"label\":{\"value\":\"ideal\"},\"renderers\":[{\"id\":\"bffbbf5a-4b3c-4a75-88c3-cd7dfbfc00e9\",\"type\":\"GlyphRenderer\"}]},\"id\":\"d46d3cf2-3c6f-4cfb-92f1-0535a57a3df8\",\"type\":\"LegendItem\"},{\"attributes\":{\"active_drag\":\"auto\",\"active_inspect\":\"auto\",\"active_scroll\":\"auto\",\"active_tap\":\"auto\"},\"id\":\"a0104651-5047-49fd-b62f-1bac1c431ccc\",\"type\":\"Toolbar\"},{\"attributes\":{},\"id\":\"30658aea-9493-4d9b-a7e9-7631615db631\",\"type\":\"CategoricalScale\"}],\"root_ids\":[\"487d28df-1a3e-4725-b84c-306d09f9b7f7\"]},\"title\":\"Bokeh Application\",\"version\":\"0.12.13\"}}\n",
       "        </script>\n",
       "        <script type=\"text/javascript\">\n",
       "          (function() {\n",
       "            var fn = function() {\n",
       "              Bokeh.safely(function() {\n",
       "                (function(root) {\n",
       "                  function embed_document(root) {\n",
       "                    \n",
       "                  var docs_json = document.getElementById('7512ea11-8a1c-49ea-b426-6b33018e323f').textContent;\n",
       "                  var render_items = [{\"docid\":\"f536b2cf-d1e6-4a3d-b8e6-190f510d797b\",\"elementid\":\"ac6d4f10-16e4-4d91-9746-7f0b03114665\",\"modelid\":\"487d28df-1a3e-4725-b84c-306d09f9b7f7\"}];\n",
       "                  root.Bokeh.embed.embed_items(docs_json, render_items);\n",
       "                \n",
       "                  }\n",
       "                  if (root.Bokeh !== undefined) {\n",
       "                    embed_document(root);\n",
       "                  } else {\n",
       "                    var attempts = 0;\n",
       "                    var timer = setInterval(function(root) {\n",
       "                      if (root.Bokeh !== undefined) {\n",
       "                        embed_document(root);\n",
       "                        clearInterval(timer);\n",
       "                      }\n",
       "                      attempts++;\n",
       "                      if (attempts > 100) {\n",
       "                        console.log(\"Bokeh: ERROR: Unable to run BokehJS code because BokehJS library is missing\")\n",
       "                        clearInterval(timer);\n",
       "                      }\n",
       "                    }, 10, root)\n",
       "                  }\n",
       "                })(window);\n",
       "              });\n",
       "            };\n",
       "            if (document.readyState != \"loading\") fn();\n",
       "            else document.addEventListener(\"DOMContentLoaded\", fn);\n",
       "          })();\n",
       "        </script>\n",
       "    </body>\n",
       "</html>"
      ],
      "text/plain": [
       "<IPython.core.display.HTML object>"
      ]
     },
     "metadata": {},
     "output_type": "display_data"
    },
    {
     "data": {
      "text/html": [
       "</br><hr>"
      ],
      "text/plain": [
       "<IPython.core.display.HTML object>"
      ]
     },
     "metadata": {},
     "output_type": "display_data"
    },
    {
     "data": {
      "text/html": [
       "<h3 align='center'><font color='maroon'>Goal</font></h3>"
      ],
      "text/plain": [
       "<IPython.core.display.HTML object>"
      ]
     },
     "metadata": {},
     "output_type": "display_data"
    },
    {
     "data": {
      "text/html": [
       "<h4>Goals:</h4><font color='maroon'>Weekly lagging by:</font><b>0.8 hr</b> (2 days remaining in week)</br><font color='maroon'>Leading by:</font><b>4.5 hr</b> (16.5 / 30.5)</br><font color='maroon'>Uncommitted Hours: </font><b>57.5</b> (out of 88)</br><font color='maroon'>Days from deadline: </font><b>19</b> (out of 22)</br>"
      ],
      "text/plain": [
       "<IPython.core.display.HTML object>"
      ]
     },
     "metadata": {},
     "output_type": "display_data"
    },
    {
     "data": {
      "text/html": [
       "<h3 align='center' style='color:grey;'>Goal Status</h3><table width='100%'><col width='20%'> <col width='60%'> <col width='10%'> <col width='10%'><tr><th><p align='left'>Name</p></th> <th><p align='left'>Description</p></th> <th><p align='left'>Remaining</p></th> <th><p align='left'>Points</p></th></tr><tr><td><font face='verdana' size='2' ><p align='left'>pricing</p></font></td><td><font face='verdana' size='2' color=grey><p align='left'> Pricing analytics (understand ppts)</p></font></td><td><font face='verdana' size='2' ><p align='center'>0.0</p></font></td><td><font face='verdana' size='2' ><p align='center'>1.0</p></font></td></tr><tr><td><font face='verdana' size='2' ><p align='left'>e1d</p></font></td><td><font face='verdana' size='2' color=grey><p align='left'> Eliminate Ek Din (TM)</p></font></td><td><font face='verdana' size='2' ><p align='center'>-9.8</p></font></td><td><font face='verdana' size='2' ><p align='center'>1.0</p></font></td></tr><tr><td><font face='verdana' size='2' ><p align='left'>mastery</p></font></td><td><font face='verdana' size='2' color=blue><p align='left'> identify and prioritize mastery opportunity resulting</p></font></td><td><font face='verdana' size='2' ><p align='center'>1.8</p></font></td><td><font face='verdana' size='2' ><p align='center'>1.0</p></font></td></tr><tr><td><font face='verdana' size='2' ><p align='left'>parenting</p></font></td><td><font face='verdana' size='2' color=red><p align='left'> Identify and act on improving parenting</p></font></td><td><font face='verdana' size='2' ><p align='center'>0.5</p></font></td><td><font face='verdana' size='2' ><p align='center'>1.0</p></font></td></tr><tr><td><font face='verdana' size='2' ><p align='left'>weekend</p></font></td><td><font face='verdana' size='2' color=black><p align='left'> Identify and act on improving weekends</p></font></td><td><font face='verdana' size='2' ><p align='center'>5.0</p></font></td><td><font face='verdana' size='2' ><p align='center'>0.0</p></font></td></tr><tr><td><font face='verdana' size='2' ><p align='left'>python modeling</p></font></td><td><font face='verdana' size='2' color=black><p align='left'> End to end model building (analysis n viz n modeling python)</p></font></td><td><font face='verdana' size='2' ><p align='center'>10.0</p></font></td><td><font face='verdana' size='2' ><p align='center'>0.0</p></font></td></tr><tr><td><font face='verdana' size='2' ><p align='left'>deep learning</p></font></td><td><font face='verdana' size='2' color=blue><p align='left'> Build deep learning model (normal + timeseries)</p></font></td><td><font face='verdana' size='2' ><p align='center'>6.5</p></font></td><td><font face='verdana' size='2' ><p align='center'>1.0</p></font></td></tr></table>"
      ],
      "text/plain": [
       "<IPython.core.display.HTML object>"
      ]
     },
     "metadata": {},
     "output_type": "display_data"
    }
   ],
   "source": [
    "import task_monitor_util as tm\n",
    "import datetime as dt\n",
    "reference_date=dt.datetime.now()\n",
    "#reference_date=dt.datetime(2017,11,29)\n",
    "tm.calculate_n_display_task_n_goal_metrics(reference_date)"
   ]
  }
 ],
 "metadata": {
  "kernelspec": {
   "display_name": "Python 3",
   "language": "python",
   "name": "python3"
  },
  "language_info": {
   "codemirror_mode": {
    "name": "ipython",
    "version": 3
   },
   "file_extension": ".py",
   "mimetype": "text/x-python",
   "name": "python",
   "nbconvert_exporter": "python",
   "pygments_lexer": "ipython3",
   "version": "3.6.3"
  }
 },
 "nbformat": 4,
 "nbformat_minor": 2
}
