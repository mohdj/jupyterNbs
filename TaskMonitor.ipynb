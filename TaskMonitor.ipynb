{
 "cells": [
  {
   "cell_type": "code",
   "execution_count": 1,
   "metadata": {},
   "outputs": [
    {
     "data": {
      "text/html": [
       "<h4>Focused Hours:</h4><font color='maroon'>Last 3 days avg: </font><b>3.7</b></br><font color='maroon'>Last 3 days avg on goals: </font><b>3.4</b> (out of 4)</br>"
      ],
      "text/plain": [
       "<IPython.core.display.HTML object>"
      ]
     },
     "metadata": {},
     "output_type": "display_data"
    },
    {
     "data": {
      "text/html": [
       "<h4>Goals:</h4><font color='maroon'>Leading by:</font><b>3.2 hr</b> (11.2 / 30.5)</br><font color='maroon'>Uncommitted Hours: </font><b>57.5</b> (out of 88)</br><font color='maroon'>Days from deadline: </font><b>20</b> (out of 22)</br>"
      ],
      "text/plain": [
       "<IPython.core.display.HTML object>"
      ]
     },
     "metadata": {},
     "output_type": "display_data"
    },
    {
     "data": {
      "text/html": [
       "<table width=\"100%\">\n",
       "    <col width=\"20%\">\n",
       "    <col width=\"60%\">\n",
       "    <col width=\"10%\">\n",
       "    <col width=\"10%\">\n",
       "      <tr>\n",
       "        <th><p align='left'>Name</p></th>\n",
       "        <th><p align='left'>Description</p></th>\n",
       "        <th><p align='left'>Remaining (hrs)</p></th>\n",
       "        <th><p align='left'>Points</p></th>\n",
       "      </tr><tr><td><font face='verdana' size='2'><p align='left'>deep learning</p></font></td><td><font color='blue' face='verdana' size='2'><p align='left'> Build deep learning model (normal + timeseries)</p></font></td><td><font face='verdana' size='2'><p align='center'>6.5 / 7.0</p></font></td><td><font face='verdana' size='2'><p align='center'>1.0</p></font></td></tr><tr><td><font face='verdana' size='2'><p align='left'>python modeling</p></font></td><td><font face='verdana' size='2'><p align='left'> End to end model building (analysis n viz n modeling python)</p></font></td><td><font face='verdana' size='2'><p align='center'>10.0 / 10.0</p></font></td><td><font face='verdana' size='2'><p align='center'>0.0</p></font></td></tr><tr><td><font face='verdana' size='2'><p align='left'>weekend</p></font></td><td><font face='verdana' size='2'><p align='left'> Identify and act on improving weekends</p></font></td><td><font face='verdana' size='2'><p align='center'>5.0 / 5.0</p></font></td><td><font face='verdana' size='2'><p align='center'>0.0</p></font></td></tr><tr><td><font face='verdana' size='2'><p align='left'>parenting</p></font></td><td><font color='red' face='verdana' size='2'><p align='left'> Identify and act on improving parenting</p></font></td><td><font face='verdana' size='2'><p align='center'>0.5 / 1.5</p></font></td><td><font face='verdana' size='2'><p align='center'>1.0</p></font></td></tr><tr><td><font face='verdana' size='2'><p align='left'>mastery</p></font></td><td><font color='blue' face='verdana' size='2'><p align='left'> identify and prioritize mastery opportunity resulting</p></font></td><td><font face='verdana' size='2'><p align='center'>1.8 / 3.0</p></font></td><td><font face='verdana' size='2'><p align='center'>1.0</p></font></td></tr><tr><td><font face='verdana' size='2'><p align='left'>pricing</p></font></td><td><font face='verdana' size='2'><p align='left'><strike> Pricing analytics (understand ppts)</strike></p></font></td><td><font face='verdana' size='2'><p align='center'>0.0 / 2.0</p></font></td><td><font face='verdana' size='2'><p align='center'>1.0</p></font></td></tr><tr><td><font face='verdana' size='2'><p align='left'>e1d</p></font></td><td><font face='verdana' size='2'><p align='left'><strike> Eliminate Ek Din (TM)</strike></p></font></td><td><font face='verdana' size='2'><p align='center'>-4.5 / 2.0</p></font></td><td><font face='verdana' size='2'><p align='center'>1.0</p></font></td></tr></table>"
      ],
      "text/plain": [
       "<IPython.core.display.HTML object>"
      ]
     },
     "metadata": {},
     "output_type": "display_data"
    }
   ],
   "source": [
    "import task_monitor_util as tm\n",
    "tm.calculate_n_display_task_n_goal_metrics()"
   ]
  }
 ],
 "metadata": {
  "kernelspec": {
   "display_name": "Python 3",
   "language": "python",
   "name": "python3"
  },
  "language_info": {
   "codemirror_mode": {
    "name": "ipython",
    "version": 3
   },
   "file_extension": ".py",
   "mimetype": "text/x-python",
   "name": "python",
   "nbconvert_exporter": "python",
   "pygments_lexer": "ipython3",
   "version": "3.6.1"
  }
 },
 "nbformat": 4,
 "nbformat_minor": 2
}
