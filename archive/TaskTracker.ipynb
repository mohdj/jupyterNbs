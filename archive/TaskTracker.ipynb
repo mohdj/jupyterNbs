{
 "cells": [
  {
   "cell_type": "code",
   "execution_count": null,
   "metadata": {
    "collapsed": true
   },
   "outputs": [],
   "source": [
    "from togglwrapper import Toggl\n",
    "import pandas as pd\n",
    "import datetime as dt\n",
    "from IPython.core.display import display, HTML, display_javascript, Javascript\n",
    "TOGGL_API_TOKEN='188b4b533d58101a5fcc800f9f00569d'\n",
    "TOGGL_WORKSPACE_ID=57456\n",
    "NUMBER_OF_TOGGL_DATA_TO_PULL=30\n",
    "toggl = Toggl(TOGGL_API_TOKEN)"
   ]
  },
  {
   "cell_type": "code",
   "execution_count": null,
   "metadata": {
    "collapsed": true
   },
   "outputs": [],
   "source": [
    "htm=\"\"\"\n",
    "<!DOCTYPE html>\n",
    "<html lang=\"en-US\">\n",
    "<script type=\"text/javascript\" src=\"https://www.gstatic.com/charts/loader.js\"></script>\n",
    "\n",
    "<script type=\"text/javascript\">\n",
    "// Load google charts\n",
    "google.charts.load('current', {'packages':['corechart']});\n",
    "google.charts.setOnLoadCallback(drawChart);\n",
    "\n",
    "// Draw the chart and set the chart values\n",
    "function drawChart() {\n",
    "  var data = google.visualization.arrayToDataTable([\n",
    "  ['Task', 'Hours per Day'],\n",
    "  ['Work', 8],\n",
    "  ['Eat', 2],\n",
    "  ['TV', 4],\n",
    "  ['Gym', 2],\n",
    "  ['Sleep', 8]\n",
    "]);\n",
    "\n",
    "  // Optional; add a title and set the width and height of the chart\n",
    "  var options = {'title':'My Average Day', 'width':550, 'height':400};\n",
    "\n",
    "  // Display the chart inside the <div> element with id=\"piechart\"\n",
    "  var chart = new google.visualization.PieChart(document.getElementById('piechart'));\n",
    "  chart.draw(data, options);\n",
    "   var chart2 = new google.visualization.PieChart(document.getElementById('piechart2'));\n",
    "  chart2.draw(data, options);\n",
    "}\n",
    "</script>\n",
    "\n",
    "<body>\n",
    "\n",
    "<h1>My Web Page</h1>\n",
    "<table width='90%'><tr><td><div id=\"piechart\"></div></td><td><div id=\"piechart2\"></div></td></tr></table>\n",
    "\n",
    "</body>\n",
    "</html>\n",
    "\"\"\"\n",
    "display(HTML(htm))"
   ]
  },
  {
   "cell_type": "code",
   "execution_count": null,
   "metadata": {},
   "outputs": [],
   "source": [
    "# Pull Toggl Data\n",
    "reference_date=dt.datetime.strptime(\"2017-05-01\",\"%Y-%m-%d\")\n",
    "#reference_date=dt.datetime.now()\n",
    "start_date=str(reference_date.date()-dt.timedelta(days=NUMBER_OF_TOGGL_DATA_TO_PULL))+\"T00:00:00+00:00\"\n",
    "end_date=str(reference_date.date())+\"T00:00:00+00:00\"\n",
    "\n",
    "# Pull projects\n",
    "projects=pd.DataFrame(data=toggl.Workspaces.get_projects(TOGGL_WORKSPACE_ID))\n",
    "projects=projects.loc[:,['id','name']]\n",
    "\n",
    "# Pull time entries\n",
    "time_entries=pd.DataFrame(data=toggl.TimeEntries.get(start_date=start_date,end_date=end_date))\n",
    "time_entries.stop=pd.to_datetime(time_entries.stop)\n",
    "time_entries.start=pd.to_datetime(time_entries.start)\n",
    "time_entries=time_entries.loc[:,['start','description','duration','pid']]\n",
    "tasks=pd.merge(time_entries,projects,how='left',left_on='pid',right_on='id')\n",
    "tasks=tasks.loc[:,['start','name','description','duration']]\n",
    "tasks"
   ]
  },
  {
   "cell_type": "code",
   "execution_count": null,
   "metadata": {},
   "outputs": [],
   "source": [
    "import pandas as pd\n",
    "import datetime as dt\n",
    "#import my_util\n",
    "import matplotlib.pyplot as plt\n",
    "import ast\n",
    "from IPython.core.display import display, HTML, display_javascript, Javascript\n",
    "from togglwrapper import Toggl\n",
    "import simplenote as sn\n",
    "from io import StringIO"
   ]
  },
  {
   "cell_type": "code",
   "execution_count": 14,
   "metadata": {
    "collapsed": true
   },
   "outputs": [],
   "source": [
    "simplenote = sn.Simplenote('mohdjamal8453@gmail.com', 'simple123')"
   ]
  },
  {
   "cell_type": "code",
   "execution_count": 20,
   "metadata": {},
   "outputs": [],
   "source": [
    "task_tracker_config_note_key='58cb45a3-54ac-4316-9a57-7272b8edc0a3'\n",
    "task_tracker_config_note_raw_content=simplenote.get_note(task_tracker_config_note_key)[0]['content']"
   ]
  },
  {
   "cell_type": "code",
   "execution_count": 33,
   "metadata": {},
   "outputs": [
    {
     "data": {
      "text/plain": [
       "\"* daily_goal={'meeting':1.5,'social':0.5,'comp_namaaz':0.5,'goal':2,'careem':3} # overall effiency is tracked, these are items of current focus and are logged, later on they may not be tracked or logged\""
      ]
     },
     "execution_count": 33,
     "metadata": {},
     "output_type": "execute_result"
    }
   ],
   "source": [
    "task_tracker_config_note_raw_content.splitlines()[3]"
   ]
  },
  {
   "cell_type": "code",
   "execution_count": 36,
   "metadata": {
    "collapsed": true
   },
   "outputs": [],
   "source": [
    "daily_goal=1"
   ]
  },
  {
   "cell_type": "code",
   "execution_count": 37,
   "metadata": {},
   "outputs": [
    {
     "data": {
      "text/plain": [
       "{'careem': 3, 'comp_namaaz': 0.5, 'goal': 2, 'meeting': 1.5, 'social': 0.5}"
      ]
     },
     "execution_count": 37,
     "metadata": {},
     "output_type": "execute_result"
    }
   ],
   "source": [
    "x=task_tracker_config_note_raw_content.splitlines()[3].replace(\"*\",\"\").strip()\n",
    "exec(x[:x.index(\"#\")])\n",
    "daily_goal"
   ]
  },
  {
   "cell_type": "code",
   "execution_count": 43,
   "metadata": {},
   "outputs": [
    {
     "ename": "ValueError",
     "evalue": "substring not found",
     "output_type": "error",
     "traceback": [
      "\u001b[1;31m---------------------------------------------------------------------------\u001b[0m",
      "\u001b[1;31mValueError\u001b[0m                                Traceback (most recent call last)",
      "\u001b[1;32m<ipython-input-43-9dad10c62a61>\u001b[0m in \u001b[0;36m<module>\u001b[1;34m()\u001b[0m\n\u001b[0;32m      1\u001b[0m \u001b[0mx\u001b[0m\u001b[1;33m=\u001b[0m \u001b[1;34m\"hhsjhasjha sjlasj\"\u001b[0m\u001b[1;33m\u001b[0m\u001b[0m\n\u001b[1;32m----> 2\u001b[1;33m \u001b[0mx\u001b[0m\u001b[1;33m.\u001b[0m\u001b[0mindex\u001b[0m\u001b[1;33m(\u001b[0m\u001b[1;34m\"#\"\u001b[0m\u001b[1;33m)\u001b[0m\u001b[1;33m\u001b[0m\u001b[0m\n\u001b[0m",
      "\u001b[1;31mValueError\u001b[0m: substring not found"
     ]
    }
   ],
   "source": [
    "x= \"hhsjhasjha sjlasj\"\n",
    "x.(\"#\",)"
   ]
  },
  {
   "cell_type": "code",
   "execution_count": 80,
   "metadata": {},
   "outputs": [
    {
     "data": {
      "text/plain": [
       "{'daily_goal': {'careem': 3,\n",
       "  'comp_namaaz': 0.5,\n",
       "  'goal': 2,\n",
       "  'meeting': 1.5,\n",
       "  'social': 0.5},\n",
       " 'ft_projects': ['quran', 'ilm', 'careem', 'du'],\n",
       " 'weekly_goal': {'goal': 14, 'ilm': 7, 'quran': 7}}"
      ]
     },
     "execution_count": 80,
     "metadata": {},
     "output_type": "execute_result"
    }
   ],
   "source": [
    "def get_task_tracker_config():\n",
    "    task_tracker_config_note_key = '58cb45a3-54ac-4316-9a57-7272b8edc0a3'\n",
    "    task_tracker_config_note_raw_content = simplenote.get_note(task_tracker_config_note_key)[0]['content']\n",
    "    task_tracker_config={}\n",
    "    for code_str in task_tracker_config_note_raw_content.splitlines():\n",
    "        code_str=code_str.replace(\"*\",\"\").strip()\n",
    "        if(code_str.count(\"=\")==0):\n",
    "            continue\n",
    "        if(code_str.count(\"#\")==0):\n",
    "            code_str=code_str[:code_str.index(\"#\")] # remove comments\n",
    "        equalto_index=code_str.index(\"=\")\n",
    "        var_name=code_str[:equalto_index]\n",
    "        var_value=eval(code_str[equalto_index+1:])\n",
    "        task_tracker_config[var_name]=var_value\n",
    "    return task_tracker_config\n",
    "    \n",
    "get_task_tracker_config()"
   ]
  },
  {
   "cell_type": "code",
   "execution_count": 24,
   "metadata": {},
   "outputs": [
    {
     "ename": "SyntaxError",
     "evalue": "invalid syntax (<string>, line 1)",
     "output_type": "error",
     "traceback": [
      "Traceback \u001b[1;36m(most recent call last)\u001b[0m:\n",
      "  File \u001b[0;32m\"C:\\Installed\\anaconda\\lib\\site-packages\\IPython\\core\\interactiveshell.py\"\u001b[0m, line \u001b[0;32m2862\u001b[0m, in \u001b[0;35mrun_code\u001b[0m\n    exec(code_obj, self.user_global_ns, self.user_ns)\n",
      "\u001b[1;36m  File \u001b[1;32m\"<ipython-input-24-c197be551b96>\"\u001b[1;36m, line \u001b[1;32m1\u001b[1;36m, in \u001b[1;35m<module>\u001b[1;36m\u001b[0m\n\u001b[1;33m    eval(task_tracker_config_note_raw_content.splitlines()[3].replace(\"*\",\"\").strip())\u001b[0m\n",
      "\u001b[1;36m  File \u001b[1;32m\"<string>\"\u001b[1;36m, line \u001b[1;32m1\u001b[0m\n\u001b[1;33m    daily_goal={'meeting':1.5,'social':0.5,'comp_namaaz':0.5,'goal':2,'careem':3} # overall effiency is tracked, these are items of current focus and are logged, later on they may not be tracked or logged\u001b[0m\n\u001b[1;37m              ^\u001b[0m\n\u001b[1;31mSyntaxError\u001b[0m\u001b[1;31m:\u001b[0m invalid syntax\n"
     ]
    }
   ],
   "source": [
    "eval(task_tracker_config_note_raw_content.splitlines()[3].replace(\"*\",\"\").strip())"
   ]
  },
  {
   "cell_type": "code",
   "execution_count": null,
   "metadata": {
    "scrolled": true
   },
   "outputs": [],
   "source": [
    "import datetime as dt\n",
    "reference_date=dt.datetime.now()\n",
    "#reference_date=dt.datetime.strptime(\"2017/11/29\",\"%Y/%m/%d\")\n",
    "calculate_n_display_task_n_goal_metrics(reference_date)"
   ]
  },
  {
   "cell_type": "code",
   "execution_count": null,
   "metadata": {
    "collapsed": true
   },
   "outputs": [],
   "source": []
  }
 ],
 "metadata": {
  "kernelspec": {
   "display_name": "Python 3",
   "language": "python",
   "name": "python3"
  },
  "language_info": {
   "codemirror_mode": {
    "name": "ipython",
    "version": 3
   },
   "file_extension": ".py",
   "mimetype": "text/x-python",
   "name": "python",
   "nbconvert_exporter": "python",
   "pygments_lexer": "ipython3",
   "version": "3.6.3"
  }
 },
 "nbformat": 4,
 "nbformat_minor": 2
}
