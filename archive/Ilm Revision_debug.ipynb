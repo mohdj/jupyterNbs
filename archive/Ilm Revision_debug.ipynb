{
 "cells": [
  {
   "cell_type": "code",
   "execution_count": 60,
   "metadata": {},
   "outputs": [
    {
     "name": "stdout",
     "output_type": "stream",
     "text": [
      "03/12/17, Burhanuddin Maula ra urs 1439, none,na,na\n",
      "03/12/17, Miladunnabi 1439 (Burhanuddin Maula Vaaz), none,na,na\n",
      "03/12/17, ashara 2-1439, none,na,na\n",
      "03/12/17, ashara 3-1439 2, none,na,na\n",
      "03/12/17, Muntaza Aimmat 2, none,na,na\n",
      "03/12/17, taweelud daim 4-1, none,na,na\n",
      "03/12/17, majalis 88, none,na,na\n",
      "03/12/17, majalis 87, none,na,na\n",
      "03/12/17, majalis 92, none,na,na\n",
      "03/12/17,majalis 93, none,na,na\n",
      "03/12/17, muntaza aimmat 1, none,na,na\n",
      "03/12/17, taweelud daim 4-2, none,na,na\n",
      "03/12/17, majalis 89, none,na,na\n",
      "03/12/17, asaasut taweel nooh as 1, none,na,na\n",
      "03/12/17, asaasut taweel aadam as 1, none,na,na\n",
      "\n"
     ]
    }
   ],
   "source": [
    "import simplenote as sn\n",
    "from io import StringIO\n",
    "import pandas as pd\n",
    "import datetime as dt\n",
    "import matplotlib.pyplot as plt\n",
    "import ast\n",
    "import pyperclip\n",
    "%matplotlib inline\n",
    "\n",
    "simplenote = sn.Simplenote('mohdjamal8453@gmail.com', 'simple123')\n",
    "taskNoteKey=\"41d06e8ced6c42389127e0d727974230\"\n",
    "ilmNoteKey=\"5f7cb643ec884642b250954ff3996f8c\"\n",
    "ilmRevLogKey=\"9ad07e0dc9e84909b17795e101683c68\"\n",
    "monthlyGoalNoteKey=\"ba7047bd84204ab49e9e271a5b164675\"\n",
    "\n",
    "maula_vaaz_identifier=['maula','ashara']\n",
    "\n",
    "revsionSchedule=[0,1,2,5,10,21,52,88,140]+[(140+(x+1)*52) for x in range(5)] # assign for next 5 years as well\n",
    "revsionSchedule=[x*7 for x in revsionSchedule]\n",
    "\n",
    "revsionSchedule_MaulaVaaz=[0,1,2,5,10,21,52]+[(52+(x+1)*30) for x in range(10)] # revise maula tus bayaan every 7 months all\n",
    "revsionSchedule_MaulaVaaz=[x*7 for x in revsionSchedule_MaulaVaaz]\n",
    "\n",
    "ilmNoteRaw=simplenote.get_note(ilmNoteKey)\n",
    "\n",
    "ilmNote=ilmNoteRaw[0]['content'].splitlines()[1:]\n",
    "ilmNote=[ln.replace(\"*\",\"\").strip() for ln in ilmNote]\n",
    "ilmcsv=\"\\n\".join(ilmNote)\n",
    "datilm=pd.read_csv(StringIO(ilmcsv))\n",
    "datilm.columns=[x.strip() for x in datilm.columns]\n",
    "datilm['date']=pd.to_datetime(datilm['date'],format=\"%d/%m/%y\")\n",
    "datilm['weekstartdate']=datilm['date'].dt.to_period('W').apply(lambda r: r.start_time)-dt.timedelta(days=1)\n",
    "\n",
    "curWeekStartDate=dt.datetime.now() - dt.timedelta(days=dt.datetime.now().weekday()+1)\n",
    "datilm['daysDifference']=datilm.weekstartdate.apply(lambda ilmdate, curWeekStartDate: (curWeekStartDate-ilmdate).days,args=[curWeekStartDate])\n",
    "\n",
    "isAqaMaulaVaaz=datilm.name.apply(lambda x: any([y in x.lower() for y in maula_vaaz_identifier]))\n",
    "datilm_maula=datilm.loc[isAqaMaulaVaaz,:]\n",
    "datilm_other=datilm.loc[~isAqaMaulaVaaz,:]\n",
    "revlog=pd.concat([datilm_maula[datilm_maula.daysDifference.isin(revsionSchedule_MaulaVaaz)],datilm_other[datilm_other.daysDifference.isin(revsionSchedule)]])\n",
    "revlog=revlog[['name','maturity']]\n",
    "#revlog=datilm.loc[datilm.daysDifference.isin(revsionSchedule),['name','maturity']]\n",
    "revlog['date']=dt.datetime.strftime(curWeekStartDate,format=\"%d/%m/%y\")\n",
    "revlog['rating']=\"na\"\n",
    "revlog['timetaken']=\"na\"\n",
    "revlog=revlog[['date','name','maturity','rating','timetaken']]\n",
    "pyperclip.copy(revlog.to_csv(index=False, header=False,line_terminator=os.linesep))\n",
    "# print(datilm[datilm.daysDifference.isin(revsionSchedule)])\n",
    "print(revlog.to_csv(index=False, header=False))"
   ]
  }
 ],
 "metadata": {
  "kernelspec": {
   "display_name": "Python 3",
   "language": "python",
   "name": "python3"
  },
  "language_info": {
   "codemirror_mode": {
    "name": "ipython",
    "version": 3
   },
   "file_extension": ".py",
   "mimetype": "text/x-python",
   "name": "python",
   "nbconvert_exporter": "python",
   "pygments_lexer": "ipython3",
   "version": "3.6.1"
  }
 },
 "nbformat": 4,
 "nbformat_minor": 2
}
