{
 "cells": [
  {
   "cell_type": "code",
   "execution_count": 652,
   "metadata": {
    "collapsed": true
   },
   "outputs": [],
   "source": [
    "import simplenote as sn\n",
    "from io import StringIO\n",
    "import pandas as pd\n",
    "import datetime as dt\n",
    "import matplotlib.pyplot as plt\n",
    "import ast\n",
    "from IPython.core.display import display, HTML\n",
    "%matplotlib inline\n",
    "\n",
    "reference_date=dt.datetime.now()\n",
    "simplenote = sn.Simplenote('mohdjamal8453@gmail.com', 'simple123')\n",
    "taskNoteKey=\"41d06e8ced6c42389127e0d727974230\"\n",
    "ilmNoteKey=\"5f7cb643ec884642b250954ff3996f8c\"\n",
    "ilmRevLogKey=\"9ad07e0dc9e84909b17795e101683c68\"\n",
    "monthlyGoalNoteKey=\"ba7047bd84204ab49e9e271a5b164675\""
   ]
  },
  {
   "cell_type": "code",
   "execution_count": 739,
   "metadata": {
    "collapsed": true
   },
   "outputs": [],
   "source": [
    "dat=simplenote.get_note(taskNoteKey)\n",
    "\n",
    "tasks=\"\"\n",
    "curdate=\"\"\n",
    "for ln in dat[0]['content'].splitlines():\n",
    "    if '*' not in ln and len(ln.strip())>0:\n",
    "        curdate=ln.strip()+' '+str(dt.datetime.now().year)\n",
    "    elif '*' in ln:\n",
    "        if ln.count(\",\")==3:\n",
    "            ln=ln+\",1\"\n",
    "        tasks=tasks+\"\\n\"+curdate+\",\"+ln\n",
    "tasks=tasks.splitlines()\n",
    "\n",
    "tasks=[ln.replace(\"*\",\"\") for ln in tasks if len(ln.split(\",\"))==6]\n",
    "tasks=pd.read_csv(StringIO('\\n'.join(tasks)),header=None,names=['Date','EndTime','Category','Desc','Duration','Point'])\n",
    "\n",
    "tasks['Date']=pd.to_datetime(tasks['Date'],format=\"%b %d %Y\")\n",
    "tasks.Category=tasks.Category.apply(lambda x:x.strip().lower()) # remove whitestrips\n",
    "tasks['DateStr']=tasks.Date.apply(lambda x: dt.datetime.strftime(x,format=\"%b-%d\")) \n",
    "\n",
    "# Tasks filters\n",
    "companyLabel= ['du','careem', 'quran','routine']\n",
    "isWeekDay=~tasks.Date.apply(lambda x: x.dayofweek in [4,5])\n",
    "last7dayFilter=(tasks.Date>= reference_date - dt.timedelta(days=8)) & isWeekDay\n",
    "nonCompanyFilter=~tasks.Category.isin(companyLabel)\n",
    "\n",
    "# Group by Date and Filter for last 7 days\n",
    "gbdate7days=tasks[last7dayFilter].groupby('DateStr',as_index=False)['Duration'].sum()\n",
    "gbdate7days['Duration']=round(gbdate7days['Duration']/60,1)\n",
    "gbdate7daysNonCompany=tasks[last7dayFilter & nonCompanyFilter].groupby('DateStr',as_index=False)['Duration'].sum()\n",
    "gbdate7daysNonCompany['Duration']=round(gbdate7daysNonCompany['Duration']/60,1)\n",
    "\n",
    "# Display metrics and Graphs\n",
    "# Below is working code, but not required as of now\n",
    "# strmean=\"Mean FT - All: <font color='blue'>{totalFT}</font>, Goal: <font color='blue'>{nonCRFT}</font>\".format(totalFT=round(gbdate7days.Duration.mean(),1),\n",
    "#                                                             nonCRFT=round(gbdate7daysNonCompany.Duration.mean(),1))\n",
    "# display(HTML('<h5>'+strmean+'</h5'))\n",
    "\n",
    "# ax=gbdate7days.plot(kind='bar',x='DateStr',y='Duration',table=True)\n",
    "# ax.set_title(\"Total FT Hours\")\n",
    "# ax.set_ylabel(\"Duration (Hrs)\")\n",
    "# ax.get_xaxis().set_visible(False)\n",
    "# ax.get_legend().set_visible(False)\n",
    "\n",
    "# ax=gbdate7daysNonCompany.plot(kind='bar',x='DateStr',y='Duration',table=True)\n",
    "# ax.set_title(\"Non company/routine FT Hours\")\n",
    "# ax.set_ylabel(\"Duration (Hrs)\")\n",
    "# ax.get_xaxis().set_visible(False)\n",
    "# ax.get_legend().set_visible(False)"
   ]
  },
  {
   "cell_type": "code",
   "execution_count": 740,
   "metadata": {
    "collapsed": true
   },
   "outputs": [],
   "source": [
    "rawGoal=simplenote.get_note(monthlyGoalNoteKey)\n",
    "rawGoal=rawGoal[0]['content'].splitlines()\n",
    "rawGoal=[ln for ln in rawGoal if ln.strip()!=\"\"]\n",
    "\n",
    "goal_config=ast.literal_eval(rawGoal[1].strip()) #1st line after note heading ought to be goal config\n",
    "goal_config['From']=dt.datetime.strptime(goal_config['From']+' '+str(reference_date.year),\"%b %d %Y\")\n",
    "goal_config['To']=dt.datetime.strptime(goal_config['To']+' '+str(reference_date.year),\"%b %d %Y\")\n",
    "goal_config['holidays']=goal_config['holidays'].split(\",\")\n",
    "goal_config['holidays']=[dt.datetime.strptime(x+\"/\"+str(reference_date.year),\"%d/%m/%Y\") for x in goal_config['holidays']]\n",
    "\n",
    "goal=\"\"\n",
    "for ln in rawGoal:\n",
    "    if '---' in ln:\n",
    "        break\n",
    "    elif '*' in ln:\n",
    "        ln=ln.replace('*',\"\")\n",
    "        goal=goal+\"\\n\"+ln\n",
    "goal=goal.splitlines()\n",
    "goal=[ln for ln in goal if len(ln.split(\",\"))==4]\n",
    "goal=pd.read_csv(StringIO('\\n'.join(goal)),header=0,names=['short_name','task','hours_committed','priority'])\n",
    "goal['short_name']=[x.strip() for x in goal['short_name']]\n",
    "\n",
    "# Get hours completed against goal from tasks and append to existing goal\n",
    "goal_category=[x.strip() for x in goal.short_name.unique()]\n",
    "tasks_in_goal=tasks[(isWithinGoal) & (tasks.Category.isin(goal_category))]\n",
    "duration_by_category=tasks_in_goal.groupby('Category',as_index=False)['Duration'].sum().rename(columns={'Duration':'hours_completed'})\n",
    "point_by_category=tasks_in_goal.groupby('Category',as_index=False)['Point'].mean().rename(columns={'Point':'avg_point'})\n",
    "goal=goal.merge(duration_by_category,how='left',left_on='short_name',right_on='Category')\n",
    "goal=goal.drop('Category',axis=1)\n",
    "goal=goal.merge(point_by_category,how='left',left_on='short_name',right_on='Category')\n",
    "goal=goal.drop('Category',axis=1)\n",
    "\n",
    "goal['hours_completed']=round(goal['hours_completed']/60,1)\n",
    "goal=goal.fillna(0)\n",
    "goal['hours_remaining']=goal['hours_committed']-goal['hours_completed']\n",
    "\n",
    "# sort as per priority - currently only based on hours remaining and additional priority for those not started.\n",
    "goal['priority']=goal['priority'].apply(lambda x:x.strip())\n",
    "goal['priority']=goal['priority'].apply(lambda x: 1 if x=='L' else (10000 if x=='M' else 100000))\n",
    "goal['priority']=goal['priority']+goal['hours_remaining']\n",
    "goal['priority']=goal.apply(lambda x: x.priority if x['hours_completed']>0 else (x.priority+10000),axis=1)\n",
    "goal['priority']=goal.apply(lambda x: x.priority if x['hours_remaining']>0 else 0,axis=1)\n",
    "goal=goal.sort_values(['priority'],ascending=False)\n",
    "goal=goal.reset_index(drop=True)\n",
    "\n",
    "# tasks filter\n",
    "def isWithinGoal(date, startDate, endDate, holidays=[], excludeWeekend=True):\n",
    "    endDate=endDate-dt.timedelta(days=1) # increasing date by 1 for easier comparison\n",
    "    # check if date within start and enddate, if not in holidays and if not a weekend\n",
    "    if(excludeWeekend):\n",
    "        out=(date>=startDate) & (date<endDate) & (date not in holidays) & (date.dayofweek not in [4,5])\n",
    "    else:\n",
    "        out=(date>=startDate) & (date<endDate) & (date not in holidays)\n",
    "    return out\n",
    "\n",
    "isWithinGoal=tasks.Date.apply(isWithinGoal,args=[goal_config['From'],goal_config['To'],goal_config['holidays']])"
   ]
  },
  {
   "cell_type": "code",
   "execution_count": 741,
   "metadata": {
    "collapsed": true
   },
   "outputs": [],
   "source": [
    "# Determine various metrics\n",
    "dates_in_goal_period=[x for x in pd.date_range(start=goal_config['From'],end=goal_config['To'])]\n",
    "total_days=len([x for x in dates_in_goal_period if x.weekday() not in [4,5]])-len(goal_config['holidays'])\n",
    "hours_available=total_days*goal_config['hours']\n",
    "hours_committed=goal.hours_committed.sum()\n",
    "hours_completed=round(goal['hours_completed'].sum(),1)\n",
    "\n",
    "goal_dates_till_now=[x for x in pd.date_range(start=goal_config['From'],end=reference_date)]\n",
    "holidays_till_now=[x for x in goal_config['holidays'] if x<(reference_date+dt.timedelta(days=1))]\n",
    "total_days_till_now=len([x for x in goal_dates_till_now if x.weekday() not in [4,5]])-len(holidays_till_now)\n",
    "hours_to_be_completed=total_days_till_now*goal_config['hours']\n",
    "hours_lagging_by=round(hours_to_be_completed-hours_completed,1)\n",
    "days_from_deadline=total_days-total_days_till_now\n",
    "\n",
    "avg_FT_task_hr_in_last3_days=(\n",
    "    tasks.loc[tasks.Date.apply(lambda x: (x.weekday() not in [4,5]) & (x.date()<reference_date.date()) & (x.date()>=(reference_date.date()-dt.timedelta(days=7))))]\n",
    "    .groupby('Date',as_index=False)['Duration'].sum()\n",
    "    .sort_values('Date',ascending=False).reset_index(drop=True).head(3)\n",
    "    .loc[:,'Duration'].mean()/60\n",
    ")\n",
    "avg_FT_task_hr_in_last3_days_in_goal=(\n",
    "    tasks_in_goal.loc[tasks_in_goal.Date.apply(lambda x: (x.date()<reference_date.date()) & (x.date()>=(reference_date.date()-dt.timedelta(days=7))))]\n",
    "    .groupby('Date',as_index=False)['Duration'].sum()\n",
    "    .sort_values('Date',ascending=False).reset_index(drop=True).head(3)\n",
    "    .loc[:,'Duration'].mean()/60\n",
    ")"
   ]
  },
  {
   "cell_type": "code",
   "execution_count": 753,
   "metadata": {},
   "outputs": [
    {
     "data": {
      "text/plain": [
       "4.5"
      ]
     },
     "execution_count": 753,
     "metadata": {},
     "output_type": "execute_result"
    }
   ],
   "source": [
    "FT_task_hr_today_in_goal=tasks_in_goal.loc[tasks_in_goal.Date.apply(lambda x: x.date()==reference_date.date())]['Duration'].sum()/60\n",
    "FT_task_hr_today_in_goal\n",
    "FT_task_hr_today=tasks[tasks.Date.apply(lambda x: x.date()==reference_date.date())]['Duration'].sum()/60\n",
    "FT_task_hr_today"
   ]
  },
  {
   "cell_type": "code",
   "execution_count": 726,
   "metadata": {
    "scrolled": true
   },
   "outputs": [
    {
     "data": {
      "text/html": [
       "<h4>Focused Hours:</h4><font color='maroon'>Last 3 days avg: </font><b>3.4</b></br><font color='maroon'>Last 3 days avg on goals: </font><b>3.4</b> (out of 4)</br>"
      ],
      "text/plain": [
       "<IPython.core.display.HTML object>"
      ]
     },
     "metadata": {},
     "output_type": "display_data"
    },
    {
     "data": {
      "text/html": [
       "<h4>Goals:</h4><font color='maroon'>Leading by:</font><b>1.7 hr</b> (5.0 / 30.5)</br><font color='maroon'>Uncommitted Hours: </font><b>57.5</b> (out of 88)</br><font color='maroon'>Days from deadline: </font><b>20</b> (out of 22)</br>"
      ],
      "text/plain": [
       "<IPython.core.display.HTML object>"
      ]
     },
     "metadata": {},
     "output_type": "display_data"
    },
    {
     "data": {
      "text/html": [
       "<table width=\"100%\">\n",
       "<col width=\"20%\">\n",
       "<col width=\"60%\">\n",
       "<col width=\"10%\">\n",
       "<col width=\"10%\">\n",
       "  <tr>\n",
       "    <th><p align='left'>Name</p></th>\n",
       "    <th><p align='left'>Description</p></th>\n",
       "    <th><p align='left'>Remaining (hrs)</p></th>\n",
       "    <th><p align='left'>Points</p></th>\n",
       "  </tr><tr><td><font face='verdana' size='2'><p align='left'>deep learning</p></font></td><td><font color='blue' face='verdana' size='2'><p align='left'> Build deep learning model (normal + timeseries)</p></font></td><td><font face='verdana' size='2'><p align='center'>6.5 / 7.0</p></font></td><td><font face='verdana' size='2'><p align='center'>1.0</p></font></td></tr><tr><td><font face='verdana' size='2'><p align='left'>python modeling</p></font></td><td><font face='verdana' size='2'><p align='left'> End to end model building (analysis n viz n modeling python)</p></font></td><td><font face='verdana' size='2'><p align='center'>10.0 / 10.0</p></font></td><td><font face='verdana' size='2'><p align='center'>0.0</p></font></td></tr><tr><td><font face='verdana' size='2'><p align='left'>weekend</p></font></td><td><font face='verdana' size='2'><p align='left'> Identify and act on improving weekends</p></font></td><td><font face='verdana' size='2'><p align='center'>5.0 / 5.0</p></font></td><td><font face='verdana' size='2'><p align='center'>0.0</p></font></td></tr><tr><td><font face='verdana' size='2'><p align='left'>parenting</p></font></td><td><font color='red' face='verdana' size='2'><p align='left'> Identify and act on improving parenting</p></font></td><td><font face='verdana' size='2'><p align='center'>0.5 / 1.5</p></font></td><td><font face='verdana' size='2'><p align='center'>1.0</p></font></td></tr><tr><td><font face='verdana' size='2'><p align='left'>mastery</p></font></td><td><font color='blue' face='verdana' size='2'><p align='left'> identify and prioritize mastery opportunity resulting</p></font></td><td><font face='verdana' size='2'><p align='center'>1.8 / 3.0</p></font></td><td><font face='verdana' size='2'><p align='center'>1.0</p></font></td></tr><tr><td><font face='verdana' size='2'><p align='left'>pricing</p></font></td><td><font face='verdana' size='2'><p align='left'><strike> Pricing analytics (understand ppts)</strike></p></font></td><td><font face='verdana' size='2'><p align='center'>0.0 / 2.0</p></font></td><td><font face='verdana' size='2'><p align='center'>1.0</p></font></td></tr><tr><td><font face='verdana' size='2'><p align='left'>e1d</p></font></td><td><font face='verdana' size='2'><p align='left'><strike> Eliminate Ek Din (TM)</strike></p></font></td><td><font face='verdana' size='2'><p align='center'>-3.0 / 2.0</p></font></td><td><font face='verdana' size='2'><p align='center'>1.0</p></font></td></tr></table>"
      ],
      "text/plain": [
       "<IPython.core.display.HTML object>"
      ]
     },
     "metadata": {},
     "output_type": "display_data"
    }
   ],
   "source": [
    "\n",
    "# Focused Hour Metrics\n",
    "last3_day_avg_in_goal_str=\"<font color='maroon'>Last 3 days avg on goals: </font><b>{avg_FT_task_hr_in_last3_days_in_goal}</b> (out of {total_committed_goal_hour_per_day})\".format(avg_FT_task_hr_in_last3_days_in_goal=round(avg_FT_task_hr_in_last3_days_in_goal,1),total_committed_goal_hour_per_day=goal_config['hours'])\n",
    "last3_day_avg_str=\"<font color='maroon'>Last 3 days avg: </font><b>{avg_FT_task_hr_in_last3_days}</b>\".format(avg_FT_task_hr_in_last3_days=round(avg_FT_task_hr_in_last3_days,1))\n",
    "metric_FT_html_str=\"<h4>Focused Hours:</h4>\"+last3_day_avg_str+\"</br>\"+last3_day_avg_in_goal_str+\"</br>\"\n",
    "display(HTML(metric_FT_html_str))\n",
    "\n",
    "# Goal Metrics\n",
    "uncommitted_hours=hours_available-hours_committed\n",
    "comitment_metric_str=\"<font color='maroon'>Uncommitted Hours: </font><b>{uncommitted_hours}</b> (out of {hours_available})\".format(uncommitted_hours=uncommitted_hours,hours_available=hours_available)\n",
    "lagging_by_str=\"Lagging by:\" if hours_lagging_by >= 0 else \"Leading by:\"\n",
    "lagging_by_str=\"<font color='maroon'>\"+lagging_by_str+\"</font>\"\n",
    "lagging_by_str+= \"<b>{hours_lagging_by} hr</b> ({hours_completed} / {hours_committed})\".format(hours_lagging_by=abs(hours_lagging_by),hours_completed=hours_completed,hours_committed=hours_committed)\n",
    "days_remaining=total_days-total_days_till_now\n",
    "days_from_deadline_str=\"<font color='maroon'>Days from deadline: </font><b>{days_remaining}</b> (out of {total_days})\".format(days_remaining=days_remaining,total_days=total_days)\n",
    "metric_goal_html_str=\"<h4>Goals:</h4>\"+lagging_by_str+\"</br>\"+comitment_metric_str+\"</br>\"+days_from_deadline_str+\"</br>\"\n",
    "display(HTML(metric_goal_html_str))\n",
    "\n",
    "# display table\n",
    "status=\"\"\"<table width=\"100%\">\n",
    "<col width=\"20%\">\n",
    "<col width=\"60%\">\n",
    "<col width=\"10%\">\n",
    "<col width=\"10%\">\n",
    "  <tr>\n",
    "    <th><p align='left'>Name</p></th>\n",
    "    <th><p align='left'>Description</p></th>\n",
    "    <th><p align='left'>Remaining (hrs)</p></th>\n",
    "    <th><p align='left'>Points</p></th>\n",
    "  </tr>\"\"\"\n",
    "\n",
    "font_default_param_str=\" face='verdana' size='2' \"\n",
    "font_default_start_tag=\"<font face='verdana' size='2'><p align='left'>\"\n",
    "font_default_start_center_align_tag=\"<font face='verdana' size='2'><p align='center'>\"\n",
    "font_end_tag=\"</p></font>\"\n",
    "for i in range(goal.shape[0]):\n",
    "    hours_completed=goal['hours_completed'][i]\n",
    "    hours_remaining=goal['hours_remaining'][i]\n",
    "    remaining_vs_committed_str=str(hours_remaining)+\" / \"+str(goal['hours_committed'][i])\n",
    "    \n",
    "    if hours_remaining <= 0:\n",
    "        color_coded_task_str=\"<font face='verdana' size='2'><p align='left'><strike>\"+goal['task'][i]+\"</strike></p></font>\"\n",
    "    elif hours_remaining <= 1:\n",
    "        color_coded_task_str=\"<font color='red' face='verdana' size='2'><p align='left'>\"+goal['task'][i]+\"</p></font>\"\n",
    "    elif hours_completed>0:\n",
    "        color_coded_task_str=\"<font color='blue' face='verdana' size='2'><p align='left'>\"+goal['task'][i]+\"</p></font>\"\n",
    "    else:\n",
    "        color_coded_task_str=\"<font face='verdana' size='2'><p align='left'>\"+goal['task'][i]+\"</p></font>\"\n",
    "    status+=\"<tr>\"\n",
    "    status+=\"<td>\"+font_default_start_tag+goal['short_name'][i]+font_end_tag+\"</td>\"\n",
    "    status+=\"<td>\"+color_coded_task_str+\"</td>\"\n",
    "    status+=\"<td>\"+font_default_start_center_align_tag+remaining_vs_committed_str+font_end_tag+\"</td>\"\n",
    "    status+=\"<td>\"+font_default_start_center_align_tag+str(goal['avg_point'][i])+font_end_tag+\"</td>\"\n",
    "    status+=\"</tr>\"\n",
    "status+=\"</table>\"\n",
    "display(HTML(status))"
   ]
  },
  {
   "cell_type": "code",
   "execution_count": 4,
   "metadata": {},
   "outputs": [
    {
     "data": {
      "text/html": [
       "<h4>Focused Hours (today):</h4><font color='maroon'>Total: </font><b>5.0</b> hr (avg 3.7 hr)</br><font color='maroon'>Goal: </font><b>4.5</b> hr (avg 3.4 hr out of 4 hr)</br>"
      ],
      "text/plain": [
       "<IPython.core.display.HTML object>"
      ]
     },
     "metadata": {},
     "output_type": "display_data"
    },
    {
     "data": {
      "text/html": [
       "<h4>Goals:</h4><font color='maroon'>Leading by:</font><b>1.2 hr</b> (13.2 / 30.5)</br><font color='maroon'>Uncommitted Hours: </font><b>57.5</b> (out of 88)</br><font color='maroon'>Days from deadline: </font><b>19</b> (out of 22)</br>"
      ],
      "text/plain": [
       "<IPython.core.display.HTML object>"
      ]
     },
     "metadata": {},
     "output_type": "display_data"
    },
    {
     "data": {
      "text/html": [
       "<table width=\"100%\">\n",
       "    <col width=\"20%\">\n",
       "    <col width=\"60%\">\n",
       "    <col width=\"10%\">\n",
       "    <col width=\"10%\">\n",
       "      <tr>\n",
       "        <th><p align='left'>Name</p></th>\n",
       "        <th><p align='left'>Description</p></th>\n",
       "        <th><p align='left'>Remaining (hrs)</p></th>\n",
       "        <th><p align='left'>Points</p></th>\n",
       "      </tr><tr><td><font face='verdana' size='2'><p align='left'>deep learning</p></font></td><td><font color='blue' face='verdana' size='2'><p align='left'> Build deep learning model (normal + timeseries)</p></font></td><td><font face='verdana' size='2'><p align='center'>6.5 / 7.0</p></font></td><td><font face='verdana' size='2'><p align='center'>1.0</p></font></td></tr><tr><td><font face='verdana' size='2'><p align='left'>python modeling</p></font></td><td><font face='verdana' size='2'><p align='left'> End to end model building (analysis n viz n modeling python)</p></font></td><td><font face='verdana' size='2'><p align='center'>10.0 / 10.0</p></font></td><td><font face='verdana' size='2'><p align='center'>0.0</p></font></td></tr><tr><td><font face='verdana' size='2'><p align='left'>weekend</p></font></td><td><font face='verdana' size='2'><p align='left'> Identify and act on improving weekends</p></font></td><td><font face='verdana' size='2'><p align='center'>5.0 / 5.0</p></font></td><td><font face='verdana' size='2'><p align='center'>0.0</p></font></td></tr><tr><td><font face='verdana' size='2'><p align='left'>parenting</p></font></td><td><font color='red' face='verdana' size='2'><p align='left'> Identify and act on improving parenting</p></font></td><td><font face='verdana' size='2'><p align='center'>0.5 / 1.5</p></font></td><td><font face='verdana' size='2'><p align='center'>1.0</p></font></td></tr><tr><td><font face='verdana' size='2'><p align='left'>mastery</p></font></td><td><font color='blue' face='verdana' size='2'><p align='left'> identify and prioritize mastery opportunity resulting</p></font></td><td><font face='verdana' size='2'><p align='center'>1.8 / 3.0</p></font></td><td><font face='verdana' size='2'><p align='center'>1.0</p></font></td></tr><tr><td><font face='verdana' size='2'><p align='left'>pricing</p></font></td><td><font face='verdana' size='2'><p align='left'><strike> Pricing analytics (understand ppts)</strike></p></font></td><td><font face='verdana' size='2'><p align='center'>0.0 / 2.0</p></font></td><td><font face='verdana' size='2'><p align='center'>1.0</p></font></td></tr><tr><td><font face='verdana' size='2'><p align='left'>e1d</p></font></td><td><font face='verdana' size='2'><p align='left'><strike> Eliminate Ek Din (TM)</strike></p></font></td><td><font face='verdana' size='2'><p align='center'>-6.5 / 2.0</p></font></td><td><font face='verdana' size='2'><p align='center'>1.0</p></font></td></tr></table>"
      ],
      "text/plain": [
       "<IPython.core.display.HTML object>"
      ]
     },
     "metadata": {},
     "output_type": "display_data"
    }
   ],
   "source": [
    "import importlib.util\n",
    "import datetime as dt\n",
    "spec = importlib.util.spec_from_file_location(\"task_util\", \"C:/Users/ailab/Documents/jupyterNbs/task_monitor_util.py\")\n",
    "task_util = importlib.util.module_from_spec(spec)\n",
    "spec.loader.exec_module(task_util)\n",
    "\n",
    "reference_date=dt.datetime.now()\n",
    "reference_date=dt.datetime.strptime(\"2017/11/29\",\"%Y/%m/%d\")\n",
    "task_util.calculate_n_display_task_n_goal_metrics(reference_date)"
   ]
  }
 ],
 "metadata": {
  "kernelspec": {
   "display_name": "Python 3",
   "language": "python",
   "name": "python3"
  },
  "language_info": {
   "codemirror_mode": {
    "name": "ipython",
    "version": 3
   },
   "file_extension": ".py",
   "mimetype": "text/x-python",
   "name": "python",
   "nbconvert_exporter": "python",
   "pygments_lexer": "ipython3",
   "version": "3.6.1"
  }
 },
 "nbformat": 4,
 "nbformat_minor": 2
}
